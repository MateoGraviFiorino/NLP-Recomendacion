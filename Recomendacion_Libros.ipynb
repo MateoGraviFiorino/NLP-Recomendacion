{
  "cells": [
    {
      "cell_type": "markdown",
      "metadata": {
        "id": "8HmWEQ9peK_z"
      },
      "source": [
        "# Trabajo Práctico"
      ]
    },
    {
      "cell_type": "markdown",
      "metadata": {
        "id": "hS-NsIXsUXND"
      },
      "source": [
        "Se requiere la relaización de un programa que interactúe con el usuario para recomendar lecturas. El programa ofrecerá tres opciones principales:\n",
        "\n",
        "- Recomendación Directa:¿Qué tienes ganas de leer hoy? Mediante la clasificación de la respuesta el programa propondrá una lista de tres libros acordes a las temáticas mencionadas. Además deberá detallar el autor, género y una breve reseña de ese libro.\n",
        "\n",
        "- Elección por Autor: Si el usuario busca por autor, el programa ofrecerá una lista de libros del autor especificado. En caso de que haya múltiples resultados, se basará en la similitud de los dos primeros resultados más relevantes, retornando dos títulos (con sus respectivas reseñas) del resultado más ercano y uno del segundo que se recomiendan para descargar.\n",
        "\n",
        "- Elección por Género Literario: Similar a la búsqueda por autor, si el usuario elige buscar por género, el programa ofrecerá una lista de libros del género especificado. Aplicará la misma lógica de similitud para seleccionar y presentar los resultados."
      ]
    },
    {
      "cell_type": "markdown",
      "metadata": {
        "id": "o79FHYwvUXNE"
      },
      "source": [
        "<h3>Requisitos del dataset</h3>\n",
        "\n",
        "El dataset debe tener de un mínimo de 100 libros con los siguientes datos:\n",
        "-\tgénero literario (mínimo 10)\n",
        "-\tautor\n",
        "-\ttítulo\n",
        "-\tsíntesis de cada libro\n"
      ]
    },
    {
      "cell_type": "code",
      "execution_count": 1,
      "metadata": {
        "id": "wY1hmaoaUXNE"
      },
      "outputs": [],
      "source": [
        "pagina = \"https://ww3.lectulandia.com/\""
      ]
    },
    {
      "cell_type": "markdown",
      "metadata": {
        "id": "I4yn5i79ldQh"
      },
      "source": [
        "## Librerias"
      ]
    },
    {
      "cell_type": "code",
      "execution_count": 2,
      "metadata": {
        "id": "_JECQOSEeKcH"
      },
      "outputs": [],
      "source": [
        "import requests\n",
        "from bs4 import BeautifulSoup"
      ]
    },
    {
      "cell_type": "markdown",
      "metadata": {
        "id": "z3b72JKmlfiB"
      },
      "source": [
        "## Página bs4"
      ]
    },
    {
      "cell_type": "markdown",
      "metadata": {
        "id": "-TlaAprOUXNG"
      },
      "source": [
        "Descubrimos que los la lista de géneros brindada por la página se encuentran en una estructura section cuyo id es \"secgenero\".\n",
        "\n",
        "Luego, dentro de esa sección, los géneros se encuentran listados mediante los elementos li."
      ]
    },
    {
      "cell_type": "markdown",
      "metadata": {
        "id": "9VY33wQDUXNH"
      },
      "source": [
        "![image.png](attachment:image.png)"
      ]
    },
    {
      "cell_type": "code",
      "execution_count": 3,
      "metadata": {
        "id": "0qvUHXeIf8pp"
      },
      "outputs": [],
      "source": [
        "url = \"https://ww3.lectulandia.com/\"\n",
        "\n",
        "response = requests.get(url)\n",
        "soup = BeautifulSoup(response.text, 'html.parser')\n",
        "\n",
        "#Buscamos el elemento section y su contenido\n",
        "letra_div = soup.find('section', id='secgenero')\n",
        "\n",
        "#obtenemos el contenido, específicamente los géneros\n",
        "generos = letra_div.find_all('li')\n"
      ]
    },
    {
      "cell_type": "markdown",
      "metadata": {
        "id": "eVVwfUaIliaZ"
      },
      "source": [
        "## Enlaces a géneros"
      ]
    },
    {
      "cell_type": "markdown",
      "metadata": {
        "id": "ApC5-r3tUXNI"
      },
      "source": [
        "Obtenemos los enlaces para luego poder buscar dentro de cada uno."
      ]
    },
    {
      "cell_type": "code",
      "execution_count": 4,
      "metadata": {
        "colab": {
          "base_uri": "https://localhost:8080/"
        },
        "id": "ugA5oTPjk44l",
        "outputId": "18d61969-0aa4-4f49-e2c9-120259037fbf"
      },
      "outputs": [
        {
          "output_type": "execute_result",
          "data": {
            "text/plain": [
              "['/genero/arqueologia/',\n",
              " '/genero/arquitectura/',\n",
              " '/genero/arte/',\n",
              " '/genero/astrologia/',\n",
              " '/genero/astronomia/',\n",
              " '/genero/autoayuda/',\n",
              " '/genero/autobiografico/',\n",
              " '/genero/aventuras/',\n",
              " '/genero/biografia/',\n",
              " '/genero/biologia/',\n",
              " '/genero/belico/',\n",
              " '/genero/ciencia/',\n",
              " '/genero/ciencia-ficcion/',\n",
              " '/genero/ciencias-exactas/',\n",
              " '/genero/ciencias-naturales/',\n",
              " '/genero/ciencias-sociales/',\n",
              " '/genero/cine/',\n",
              " '/genero/cinematografia/',\n",
              " '/genero/clasico/',\n",
              " '/genero/comunicacion/',\n",
              " '/genero/costumbrista/',\n",
              " '/genero/critica/',\n",
              " '/genero/critica-y-teoria-literaria/',\n",
              " '/genero/cronica/',\n",
              " '/genero/cronicas/',\n",
              " '/genero/cuentos/',\n",
              " '/genero/cultura/',\n",
              " '/genero/comic/',\n",
              " '/genero/deporte/',\n",
              " '/genero/deportes/',\n",
              " '/genero/deportes-y-juegos/',\n",
              " '/genero/diccionarios-y-enciclopedias/',\n",
              " '/genero/didactico/',\n",
              " '/genero/distopia/',\n",
              " '/genero/divulgacion/',\n",
              " '/genero/divulgacion-cientifica/',\n",
              " '/genero/drama/',\n",
              " '/genero/ecologia/',\n",
              " '/genero/economia/',\n",
              " '/genero/educacion/',\n",
              " '/genero/ensayo/',\n",
              " '/genero/erotico/',\n",
              " '/genero/esoterismo/',\n",
              " '/genero/espectaculos/',\n",
              " '/genero/espionaje/',\n",
              " '/genero/espiritualidad/',\n",
              " '/genero/fantasia/',\n",
              " '/genero/fantastico/',\n",
              " '/genero/ficcion/',\n",
              " '/genero/filosofia/',\n",
              " '/genero/filosofico/',\n",
              " '/genero/fisica/',\n",
              " '/genero/gastronomia/',\n",
              " '/genero/geografia/',\n",
              " '/genero/guion/',\n",
              " '/genero/historia/',\n",
              " '/genero/historico/',\n",
              " '/genero/hogar/',\n",
              " '/genero/humor/',\n",
              " '/genero/idiomas/',\n",
              " '/genero/infantil/',\n",
              " '/genero/infantil-y-juvenil/',\n",
              " '/genero/informatica/',\n",
              " '/genero/interactivo/',\n",
              " '/genero/intriga/',\n",
              " '/genero/juvenil/',\n",
              " '/genero/magia/',\n",
              " '/genero/manuales-y-cursos/',\n",
              " '/genero/matematicas/',\n",
              " '/genero/medicina/',\n",
              " '/genero/medieval/',\n",
              " '/genero/memorias/',\n",
              " '/genero/misterio/',\n",
              " '/genero/mitos/',\n",
              " '/genero/musica/',\n",
              " '/genero/nazis/',\n",
              " '/genero/negocios/',\n",
              " '/genero/no-ficcion/',\n",
              " '/genero/novela/',\n",
              " '/genero/novela-negra/',\n",
              " '/genero/novela-del-oeste/',\n",
              " '/genero/obras-completas/',\n",
              " '/genero/otros/',\n",
              " '/genero/padres-e-hijos/',\n",
              " '/genero/periodismo/',\n",
              " '/genero/pintura/',\n",
              " '/genero/poesia/',\n",
              " '/genero/policial/',\n",
              " '/genero/policiaco/',\n",
              " '/genero/politica/',\n",
              " '/genero/psicologia/',\n",
              " '/genero/psicologico/',\n",
              " '/genero/publicaciones-periodicas/',\n",
              " '/genero/quimica/',\n",
              " '/genero/realista/',\n",
              " '/genero/recetas-de-cocina/',\n",
              " '/genero/recopilacion/',\n",
              " '/genero/referencia/',\n",
              " '/genero/relato/',\n",
              " '/genero/religion/',\n",
              " '/genero/romantico/',\n",
              " '/genero/salud-y-bienestar/',\n",
              " '/genero/sexualidad/',\n",
              " '/genero/sociologia/',\n",
              " '/genero/satira/',\n",
              " '/genero/teatro/',\n",
              " '/genero/tecnologia/',\n",
              " '/genero/terror/',\n",
              " '/genero/terrorismo/',\n",
              " '/genero/thriller/',\n",
              " '/genero/ucronia/',\n",
              " '/genero/viajes/']"
            ]
          },
          "metadata": {},
          "execution_count": 4
        }
      ],
      "source": [
        "enlaces = []\n",
        "\n",
        "for genero in generos:\n",
        "  enlace = genero.find('a')\n",
        "  if enlace:\n",
        "    href=enlace.get('href')\n",
        "    enlaces.append(href)\n",
        "\n",
        "enlaces"
      ]
    },
    {
      "cell_type": "markdown",
      "metadata": {
        "id": "1d_VWzc3mOSj"
      },
      "source": [
        "### Minúsculas"
      ]
    },
    {
      "cell_type": "code",
      "execution_count": 5,
      "metadata": {
        "colab": {
          "base_uri": "https://localhost:8080/"
        },
        "id": "YBGIEiTomR1w",
        "outputId": "fd89cb16-3f7a-4475-892a-932b9e907330"
      },
      "outputs": [
        {
          "output_type": "stream",
          "name": "stdout",
          "text": [
            "Collecting unicodedata2\n",
            "  Downloading unicodedata2-15.1.0-cp310-cp310-manylinux_2_17_x86_64.manylinux2014_x86_64.whl (468 kB)\n",
            "\u001b[?25l     \u001b[90m━━━━━━━━━━━━━━━━━━━━━━━━━━━━━━━━━━━━━━━━\u001b[0m \u001b[32m0.0/468.0 kB\u001b[0m \u001b[31m?\u001b[0m eta \u001b[36m-:--:--\u001b[0m\r\u001b[2K     \u001b[91m━━━━━━━━━━━━\u001b[0m\u001b[90m╺\u001b[0m\u001b[90m━━━━━━━━━━━━━━━━━━━━━━━━━━━\u001b[0m \u001b[32m143.4/468.0 kB\u001b[0m \u001b[31m4.1 MB/s\u001b[0m eta \u001b[36m0:00:01\u001b[0m\r\u001b[2K     \u001b[90m━━━━━━━━━━━━━━━━━━━━━━━━━━━━━━━━━━━━━━━━\u001b[0m \u001b[32m468.0/468.0 kB\u001b[0m \u001b[31m6.9 MB/s\u001b[0m eta \u001b[36m0:00:00\u001b[0m\n",
            "\u001b[?25hInstalling collected packages: unicodedata2\n",
            "Successfully installed unicodedata2-15.1.0\n"
          ]
        }
      ],
      "source": [
        "!pip install unicodedata2"
      ]
    },
    {
      "cell_type": "code",
      "execution_count": 6,
      "metadata": {
        "colab": {
          "base_uri": "https://localhost:8080/"
        },
        "id": "LATc1ghQmQTQ",
        "outputId": "c4796462-f8d9-408b-9570-e74ab64765e1"
      },
      "outputs": [
        {
          "output_type": "execute_result",
          "data": {
            "text/plain": [
              "['/genero/arqueologia/',\n",
              " '/genero/arquitectura/',\n",
              " '/genero/arte/',\n",
              " '/genero/astrologia/',\n",
              " '/genero/astronomia/',\n",
              " '/genero/autoayuda/',\n",
              " '/genero/autobiografico/',\n",
              " '/genero/aventuras/',\n",
              " '/genero/biografia/',\n",
              " '/genero/biologia/',\n",
              " '/genero/belico/',\n",
              " '/genero/ciencia/',\n",
              " '/genero/ciencia-ficcion/',\n",
              " '/genero/ciencias-exactas/',\n",
              " '/genero/ciencias-naturales/',\n",
              " '/genero/ciencias-sociales/',\n",
              " '/genero/cine/',\n",
              " '/genero/cinematografia/',\n",
              " '/genero/clasico/',\n",
              " '/genero/comunicacion/',\n",
              " '/genero/costumbrista/',\n",
              " '/genero/critica/',\n",
              " '/genero/critica-y-teoria-literaria/',\n",
              " '/genero/cronica/',\n",
              " '/genero/cronicas/',\n",
              " '/genero/cuentos/',\n",
              " '/genero/cultura/',\n",
              " '/genero/comic/',\n",
              " '/genero/deporte/',\n",
              " '/genero/deportes/',\n",
              " '/genero/deportes-y-juegos/',\n",
              " '/genero/diccionarios-y-enciclopedias/',\n",
              " '/genero/didactico/',\n",
              " '/genero/distopia/',\n",
              " '/genero/divulgacion/',\n",
              " '/genero/divulgacion-cientifica/',\n",
              " '/genero/drama/',\n",
              " '/genero/ecologia/',\n",
              " '/genero/economia/',\n",
              " '/genero/educacion/',\n",
              " '/genero/ensayo/',\n",
              " '/genero/erotico/',\n",
              " '/genero/esoterismo/',\n",
              " '/genero/espectaculos/',\n",
              " '/genero/espionaje/',\n",
              " '/genero/espiritualidad/',\n",
              " '/genero/fantasia/',\n",
              " '/genero/fantastico/',\n",
              " '/genero/ficcion/',\n",
              " '/genero/filosofia/',\n",
              " '/genero/filosofico/',\n",
              " '/genero/fisica/',\n",
              " '/genero/gastronomia/',\n",
              " '/genero/geografia/',\n",
              " '/genero/guion/',\n",
              " '/genero/historia/',\n",
              " '/genero/historico/',\n",
              " '/genero/hogar/',\n",
              " '/genero/humor/',\n",
              " '/genero/idiomas/',\n",
              " '/genero/infantil/',\n",
              " '/genero/infantil-y-juvenil/',\n",
              " '/genero/informatica/',\n",
              " '/genero/interactivo/',\n",
              " '/genero/intriga/',\n",
              " '/genero/juvenil/',\n",
              " '/genero/magia/',\n",
              " '/genero/manuales-y-cursos/',\n",
              " '/genero/matematicas/',\n",
              " '/genero/medicina/',\n",
              " '/genero/medieval/',\n",
              " '/genero/memorias/',\n",
              " '/genero/misterio/',\n",
              " '/genero/mitos/',\n",
              " '/genero/musica/',\n",
              " '/genero/nazis/',\n",
              " '/genero/negocios/',\n",
              " '/genero/no-ficcion/',\n",
              " '/genero/novela/',\n",
              " '/genero/novela-negra/',\n",
              " '/genero/novela-del-oeste/',\n",
              " '/genero/obras-completas/',\n",
              " '/genero/otros/',\n",
              " '/genero/padres-e-hijos/',\n",
              " '/genero/periodismo/',\n",
              " '/genero/pintura/',\n",
              " '/genero/poesia/',\n",
              " '/genero/policial/',\n",
              " '/genero/policiaco/',\n",
              " '/genero/politica/',\n",
              " '/genero/psicologia/',\n",
              " '/genero/psicologico/',\n",
              " '/genero/publicaciones-periodicas/',\n",
              " '/genero/quimica/',\n",
              " '/genero/realista/',\n",
              " '/genero/recetas-de-cocina/',\n",
              " '/genero/recopilacion/',\n",
              " '/genero/referencia/',\n",
              " '/genero/relato/',\n",
              " '/genero/religion/',\n",
              " '/genero/romantico/',\n",
              " '/genero/salud-y-bienestar/',\n",
              " '/genero/sexualidad/',\n",
              " '/genero/sociologia/',\n",
              " '/genero/satira/',\n",
              " '/genero/teatro/',\n",
              " '/genero/tecnologia/',\n",
              " '/genero/terror/',\n",
              " '/genero/terrorismo/',\n",
              " '/genero/thriller/',\n",
              " '/genero/ucronia/',\n",
              " '/genero/viajes/']"
            ]
          },
          "metadata": {},
          "execution_count": 6
        }
      ],
      "source": [
        "import unicodedata\n",
        "\n",
        "def remove_accents(input_str):\n",
        "    nfkd_form = unicodedata.normalize('NFKD', input_str)\n",
        "    return ''.join([c for c in nfkd_form if not unicodedata.combining(c)])\n",
        "\n",
        "# Ejemplo de uso\n",
        "\n",
        "for e in enlaces:\n",
        "  remove_accents(e)\n",
        "\n",
        "enlaces\n",
        "\n",
        "# Resultado: aeiouuncaoaeiouaeiou"
      ]
    },
    {
      "cell_type": "markdown",
      "metadata": {
        "id": "dkcqVXPmmncx"
      },
      "source": [
        "## Reemplazo de espacios por '-'"
      ]
    },
    {
      "cell_type": "markdown",
      "metadata": {
        "id": "wYGx7uyInHMK"
      },
      "source": [
        "-- Como para el scraping vamos a necesitar el enlace limpio sin espacios, procedemos a reemplazar los espacion con guiones"
      ]
    },
    {
      "cell_type": "code",
      "execution_count": 7,
      "metadata": {
        "colab": {
          "base_uri": "https://localhost:8080/"
        },
        "id": "nfMOBWgGmq_R",
        "outputId": "419d719f-7f46-4790-8be8-5254eafc3bf4"
      },
      "outputs": [
        {
          "output_type": "execute_result",
          "data": {
            "text/plain": [
              "['/genero/arqueologia/',\n",
              " '/genero/arquitectura/',\n",
              " '/genero/arte/',\n",
              " '/genero/astrologia/',\n",
              " '/genero/astronomia/',\n",
              " '/genero/autoayuda/',\n",
              " '/genero/autobiografico/',\n",
              " '/genero/aventuras/',\n",
              " '/genero/biografia/',\n",
              " '/genero/biologia/',\n",
              " '/genero/belico/',\n",
              " '/genero/ciencia/',\n",
              " '/genero/ciencia-ficcion/',\n",
              " '/genero/ciencias-exactas/',\n",
              " '/genero/ciencias-naturales/',\n",
              " '/genero/ciencias-sociales/',\n",
              " '/genero/cine/',\n",
              " '/genero/cinematografia/',\n",
              " '/genero/clasico/',\n",
              " '/genero/comunicacion/',\n",
              " '/genero/costumbrista/',\n",
              " '/genero/critica/',\n",
              " '/genero/critica-y-teoria-literaria/',\n",
              " '/genero/cronica/',\n",
              " '/genero/cronicas/',\n",
              " '/genero/cuentos/',\n",
              " '/genero/cultura/',\n",
              " '/genero/comic/',\n",
              " '/genero/deporte/',\n",
              " '/genero/deportes/',\n",
              " '/genero/deportes-y-juegos/',\n",
              " '/genero/diccionarios-y-enciclopedias/',\n",
              " '/genero/didactico/',\n",
              " '/genero/distopia/',\n",
              " '/genero/divulgacion/',\n",
              " '/genero/divulgacion-cientifica/',\n",
              " '/genero/drama/',\n",
              " '/genero/ecologia/',\n",
              " '/genero/economia/',\n",
              " '/genero/educacion/',\n",
              " '/genero/ensayo/',\n",
              " '/genero/erotico/',\n",
              " '/genero/esoterismo/',\n",
              " '/genero/espectaculos/',\n",
              " '/genero/espionaje/',\n",
              " '/genero/espiritualidad/',\n",
              " '/genero/fantasia/',\n",
              " '/genero/fantastico/',\n",
              " '/genero/ficcion/',\n",
              " '/genero/filosofia/',\n",
              " '/genero/filosofico/',\n",
              " '/genero/fisica/',\n",
              " '/genero/gastronomia/',\n",
              " '/genero/geografia/',\n",
              " '/genero/guion/',\n",
              " '/genero/historia/',\n",
              " '/genero/historico/',\n",
              " '/genero/hogar/',\n",
              " '/genero/humor/',\n",
              " '/genero/idiomas/',\n",
              " '/genero/infantil/',\n",
              " '/genero/infantil-y-juvenil/',\n",
              " '/genero/informatica/',\n",
              " '/genero/interactivo/',\n",
              " '/genero/intriga/',\n",
              " '/genero/juvenil/',\n",
              " '/genero/magia/',\n",
              " '/genero/manuales-y-cursos/',\n",
              " '/genero/matematicas/',\n",
              " '/genero/medicina/',\n",
              " '/genero/medieval/',\n",
              " '/genero/memorias/',\n",
              " '/genero/misterio/',\n",
              " '/genero/mitos/',\n",
              " '/genero/musica/',\n",
              " '/genero/nazis/',\n",
              " '/genero/negocios/',\n",
              " '/genero/no-ficcion/',\n",
              " '/genero/novela/',\n",
              " '/genero/novela-negra/',\n",
              " '/genero/novela-del-oeste/',\n",
              " '/genero/obras-completas/',\n",
              " '/genero/otros/',\n",
              " '/genero/padres-e-hijos/',\n",
              " '/genero/periodismo/',\n",
              " '/genero/pintura/',\n",
              " '/genero/poesia/',\n",
              " '/genero/policial/',\n",
              " '/genero/policiaco/',\n",
              " '/genero/politica/',\n",
              " '/genero/psicologia/',\n",
              " '/genero/psicologico/',\n",
              " '/genero/publicaciones-periodicas/',\n",
              " '/genero/quimica/',\n",
              " '/genero/realista/',\n",
              " '/genero/recetas-de-cocina/',\n",
              " '/genero/recopilacion/',\n",
              " '/genero/referencia/',\n",
              " '/genero/relato/',\n",
              " '/genero/religion/',\n",
              " '/genero/romantico/',\n",
              " '/genero/salud-y-bienestar/',\n",
              " '/genero/sexualidad/',\n",
              " '/genero/sociologia/',\n",
              " '/genero/satira/',\n",
              " '/genero/teatro/',\n",
              " '/genero/tecnologia/',\n",
              " '/genero/terror/',\n",
              " '/genero/terrorismo/',\n",
              " '/genero/thriller/',\n",
              " '/genero/ucronia/',\n",
              " '/genero/viajes/']"
            ]
          },
          "metadata": {},
          "execution_count": 7
        }
      ],
      "source": [
        "for e in enlaces:\n",
        "  e.replace(\" \", \"-\")\n",
        "\n",
        "enlaces"
      ]
    },
    {
      "cell_type": "markdown",
      "metadata": {
        "id": "NpuYkfvTl4Fp"
      },
      "source": [
        "## Funcion para extraer libros de los géneros"
      ]
    },
    {
      "cell_type": "markdown",
      "metadata": {
        "id": "KNeG0grQna3a"
      },
      "source": [
        "-- Paso a paso\n",
        "\n",
        "1. Buscar el género\n",
        "2. Extraer los nombres de los libros\n",
        "3. lista[nombres] --> request.get(f\"https://ww3.lectulandia.com/book/{nombre}\")"
      ]
    },
    {
      "cell_type": "code",
      "source": [
        "def libro(url,enlace):\n",
        "    diccionario = {}\n",
        "    for gen in enlace[:56]:\n",
        "        respuesta = requests.get(url+gen)\n",
        "        titulo = BeautifulSoup(respuesta.text, 'html.parser').find('a', class_ = 'title')\n",
        "        href = titulo.get('href')\n",
        "        diccionario[titulo.text] = {'url': href,\n",
        "                                    'genero': gen}\n",
        "    return diccionario\n"
      ],
      "metadata": {
        "id": "HWfa9bYno8I5"
      },
      "execution_count": 33,
      "outputs": []
    },
    {
      "cell_type": "code",
      "source": [
        "dic = libro(\"https://ww3.lectulandia.com/\", enlaces)"
      ],
      "metadata": {
        "id": "oOrhkYv_rNHZ"
      },
      "execution_count": 34,
      "outputs": []
    },
    {
      "cell_type": "code",
      "source": [
        "dic"
      ],
      "metadata": {
        "colab": {
          "base_uri": "https://localhost:8080/"
        },
        "id": "NfRJ1WVcrRTR",
        "outputId": "1ca1575e-dae7-49ce-9396-813fcd5bfa9a"
      },
      "execution_count": 35,
      "outputs": [
        {
          "output_type": "execute_result",
          "data": {
            "text/plain": [
              "{'\\nEl mundo de la arqueología \\n': {'url': '/book/el-mundo-de-la-arqueologia/',\n",
              "  'genero': '/genero/arqueologia/'},\n",
              " '\\nLa ciudad invisible \\n': {'url': '/book/la-ciudad-invisible/',\n",
              "  'genero': '/genero/arquitectura/'},\n",
              " '\\nLa invención del cuerpo: arte y erotismo en el mundo clásico \\n': {'url': '/book/la-invencion-del-cuerpo-arte-y-erotismo-en-el-mundo-clasico/',\n",
              "  'genero': '/genero/arte/'},\n",
              " '\\nPicatrix \\n': {'url': '/book/picatrix/', 'genero': '/genero/astrologia/'},\n",
              " '\\nEn busca de Venus \\n': {'url': '/book/en-busca-de-venus/',\n",
              "  'genero': '/genero/astronomia/'},\n",
              " '\\nMorir es nada \\n': {'url': '/book/morir-es-nada/',\n",
              "  'genero': '/genero/autoayuda/'},\n",
              " '\\nMi baile con el siglo \\n': {'url': '/book/mi-baile-con-el-siglo/',\n",
              "  'genero': '/genero/autobiografico/'},\n",
              " '\\nArgonáuticas \\n': {'url': '/book/argonauticas-cayo-valerio-flaco/',\n",
              "  'genero': '/genero/aventuras/'},\n",
              " '\\nLos de Bilbao nacen donde quieren \\n': {'url': '/book/los-de-bilbao-nacen-donde-quieren/',\n",
              "  'genero': '/genero/biografia/'},\n",
              " '\\nEl río del Edén \\n': {'url': '/book/el-rio-del-eden-richard-dawkins/',\n",
              "  'genero': '/genero/divulgacion/'},\n",
              " '\\nNadie escapará \\n': {'url': '/book/nadie-escapara/',\n",
              "  'genero': '/genero/distopia/'},\n",
              " '\\nPor qué el tiempo vuela \\n': {'url': '/book/por-que-el-tiempo-vuela/',\n",
              "  'genero': '/genero/ciencia/'},\n",
              " '\\nEl cumpleaños del mundo y otros relatos \\n': {'url': '/book/el-cumpleanos-del-mundo-y-otros-relatos/',\n",
              "  'genero': '/genero/ciencia-ficcion/'},\n",
              " '\\nLa realidad oculta \\n': {'url': '/book/la-realidad-oculta/',\n",
              "  'genero': '/genero/ciencias-exactas/'},\n",
              " '\\nEstados Unidos de Amazon \\n': {'url': '/book/estados-unidos-de-amazon/',\n",
              "  'genero': '/genero/ciencias-sociales/'},\n",
              " '\\n¡Bienvenido Mr. Berlanga! \\n': {'url': '/book/bienvenido-mr-berlanga/',\n",
              "  'genero': '/genero/cine/'},\n",
              " '\\nDos hermanos \\n': {'url': '/book/dos-hermanos/',\n",
              "  'genero': '/genero/cinematografia/'},\n",
              " '\\nEl molino del Floss \\n': {'url': '/book/el-molino-del-floss/',\n",
              "  'genero': '/genero/costumbrista/'},\n",
              " '\\nArtificial. La nueva inteligencia y el contorno de lo humano \\n': {'url': '/book/artificial-la-nueva-inteligencia-y-el-contorno-de-lo-humano/',\n",
              "  'genero': '/genero/comunicacion/'},\n",
              " '\\nBorges, un escritor en las orillas \\n': {'url': '/book/borges-un-escritor-en-las-orillas/',\n",
              "  'genero': '/genero/critica/'},\n",
              " '\\nTratados de critica literaria \\n': {'url': '/book/tratados-de-critica-literaria/',\n",
              "  'genero': '/genero/critica-y-teoria-literaria/'},\n",
              " '\\nEn el reino del hielo \\n': {'url': '/book/en-el-reino-del-hielo/',\n",
              "  'genero': '/genero/cronica/'},\n",
              " '\\nAl oeste del edén \\n': {'url': '/book/al-oeste-del-eden-jean-stein/',\n",
              "  'genero': '/genero/cronicas/'},\n",
              " '\\nLas Brujas de Carhué \\n': {'url': '/book/las-brujas-de-carhue/',\n",
              "  'genero': '/genero/fantasia/'},\n",
              " '\\nLos griegos \\n': {'url': '/book/los-griegos-2/',\n",
              "  'genero': '/genero/cultura/'},\n",
              " '\\nMafalda: Femenino singular \\n': {'url': '/book/mafalda-femenino-singular/',\n",
              "  'genero': '/genero/comic/'},\n",
              " '\\nFlorentino \\n': {'url': '/book/florentino/', 'genero': '/genero/deporte/'},\n",
              " '\\nA solas con el mar \\n': {'url': '/book/a-solas-con-el-mar/',\n",
              "  'genero': '/genero/deportes/'},\n",
              " '\\nEl sueño de mi desvelo \\n': {'url': '/book/el-sueno-de-mi-desvelo/',\n",
              "  'genero': '/genero/deportes-y-juegos/'},\n",
              " '\\nDiccionario de la lengua española (15.ª edición) \\n': {'url': '/book/diccionario-de-la-lengua-espanola-15-a-edicion/',\n",
              "  'genero': '/genero/diccionarios-y-enciclopedias/'},\n",
              " '\\nLa casa de los primates \\n': {'url': '/book/la-casa-de-los-primates/',\n",
              "  'genero': '/genero/didactico/'},\n",
              " '\\nAgilmente \\n': {'url': '/book/agilmente/',\n",
              "  'genero': '/genero/divulgacion-cientifica/'},\n",
              " '\\nSeñalado por la muerte \\n': {'url': '/book/senalado-por-la-muerte/',\n",
              "  'genero': '/genero/drama/'},\n",
              " '\\nUn fulgor en la oscuridad \\n': {'url': '/book/un-fulgor-en-la-oscuridad/',\n",
              "  'genero': '/genero/ecologia/'},\n",
              " '\\nHábitos para ser millonario \\n': {'url': '/book/habitos-para-ser-millonario/',\n",
              "  'genero': '/genero/economia/'},\n",
              " '\\nEnseñar pensamiento crítico \\n': {'url': '/book/ensenar-pensamiento-critico/',\n",
              "  'genero': '/genero/educacion/'},\n",
              " '\\nMelancolía de izquierda: después de las utopías \\n': {'url': '/book/melancolia-de-izquierda-despues-de-las-utopias/',\n",
              "  'genero': '/genero/historia/'},\n",
              " '\\nLas noches que te debo \\n': {'url': '/book/las-noches-que-te-debo/',\n",
              "  'genero': '/genero/erotico/'},\n",
              " '\\nManual del investigador paranormal \\n': {'url': '/book/manual-del-investigador-paranormal/',\n",
              "  'genero': '/genero/esoterismo/'},\n",
              " '\\nLa venganza será terrible: 30 años \\n': {'url': '/book/la-venganza-sera-terrible-30-anos/',\n",
              "  'genero': '/genero/guion/'},\n",
              " '\\nTriple \\n': {'url': '/book/triple/', 'genero': '/genero/espionaje/'},\n",
              " '\\nApologético – A los gentiles \\n': {'url': '/book/apologetico-a-los-gentiles/',\n",
              "  'genero': '/genero/espiritualidad/'},\n",
              " '\\nCuentos al amor de la lumbre \\n': {'url': '/book/cuentos-al-amor-de-la-lumbre/',\n",
              "  'genero': '/genero/fantastico/'},\n",
              " '\\nCarta al padre \\n': {'url': '/book/carta-al-padre/',\n",
              "  'genero': '/genero/ficcion/'},\n",
              " '\\nHijos de Ápate: breve filosofía de la verdad, la posverdad y la mentira \\n': {'url': '/book/hijos-de-apate-breve-filosofia-de-la-verdad-la-posverdad-y-la-mentira/',\n",
              "  'genero': '/genero/filosofia/'},\n",
              " '\\nComo el río que fluye \\n': {'url': '/book/como-el-rio-que-fluye/',\n",
              "  'genero': '/genero/filosofico/'},\n",
              " '\\nEl laberinto cuántico: cómo Richard Feynman y John Wheeler revolucionaron el tiempo y la realidad \\n': {'url': '/book/el-laberinto-cuantico-como-richard-feynman-y-john-wheeler-revolucionaron-el-tiempo-y-la-realidad/',\n",
              "  'genero': '/genero/fisica/'},\n",
              " '\\nEconomía comestible: un economista hambriento explica el mundo \\n': {'url': '/book/economia-comestible-un-economista-hambriento-explica-el-mundo/',\n",
              "  'genero': '/genero/gastronomia/'},\n",
              " '\\nEl mundo inconmensurable \\n': {'url': '/book/el-mundo-inconmensurable/',\n",
              "  'genero': '/genero/geografia/'}}"
            ]
          },
          "metadata": {},
          "execution_count": 35
        }
      ]
    },
    {
      "cell_type": "markdown",
      "source": [
        "# Funcion extraer autor y sinopsis\n"
      ],
      "metadata": {
        "id": "T7PpF_RiYWXH"
      }
    },
    {
      "cell_type": "code",
      "source": [
        "def autor_sinopsis(base_url, dic):\n",
        "    dicAutor = {}\n",
        "    titulos = dic.keys()\n",
        "    for titulo in titulos:\n",
        "        # Construir URL completa del libro\n",
        "        libro_url = base_url + dic[titulo]['url']\n",
        "        respuesta = requests.get(libro_url)\n",
        "        soup = BeautifulSoup(respuesta.text, 'html.parser')\n",
        "\n",
        "        # Extraer autor y sinopsis\n",
        "        autor = soup.find('div', id='autor').find('a', class_='dinSource').text.strip()\n",
        "        sinopsis = soup.find('div', id='sinopsis').text.strip()\n",
        "\n",
        "        # Extraer género directamente del diccionario\n",
        "        genero = dic[titulo]['genero'].strip()\n",
        "\n",
        "        dicAutor[titulo.strip()] = {\n",
        "            'autor': autor,\n",
        "            'sinopsis': sinopsis,\n",
        "            'genero': genero\n",
        "        }\n",
        "\n",
        "    return dicAutor\n"
      ],
      "metadata": {
        "id": "LS8wOZfzfBEC"
      },
      "execution_count": 40,
      "outputs": []
    },
    {
      "cell_type": "code",
      "source": [
        "dicAutor = autor_sinopsis(pagina ,dic)\n",
        "dicAutor"
      ],
      "metadata": {
        "colab": {
          "base_uri": "https://localhost:8080/"
        },
        "id": "uM5TFHrneWd6",
        "outputId": "ce1f52d3-3be5-435b-9886-bed408d4e313"
      },
      "execution_count": 41,
      "outputs": [
        {
          "output_type": "execute_result",
          "data": {
            "text/plain": [
              "{'El mundo de la arqueología': {'autor': 'C. W. Ceram',\n",
              "  'sinopsis': 'Las maravillas de la tumba de Tutankamen, la Torre de Babel, los templos de los mayas, los mármoles del Partenón así como los grandes legados del arte antiguo y de la historia nos son familiares y los aceptamos como parte de nuestra vida cotidiana, pero nos es difícil recordar quienes han hecho y revelado estas aportaciones a la Humanidad. En este libro, C. W. Ceram, el famoso autor de Dioses, tumbas y sabios y de El misterio de los Hititas, ha hecho una selección antológica entre las páginas de los arqueólogos más ilustres. En ellas se refleja el drama y la fascinación del momento del hallazgo nuevo. Pero la historia de la arqueología incluye no solo a los excavadores sino también a los investigadores y científicos cuyas interpretaciones lanzan nuevas luces sobre objetos y restos del mundo antiguo para emplazarlos con mayor corrección en el lugar que les corresponde en el complejo devenir de la Historia. Por ello, con la ayuda de los nuevos inventos de la técnica moderna, cada vez es mayor la exactitud en las apreciaciones del pasado. Guiados por Ceram, a través de curiosos escritos e increíbles escenas, asistimos al incomparable espectáculo que ofrece la exploración de los misterios de nuestro pasado.',\n",
              "  'genero': '/genero/arqueologia/'},\n",
              " 'La ciudad invisible': {'autor': 'Kurt Kohlstedt',\n",
              "  'sinopsis': 'La ciudad invisible nos invita a explorar de manera inédita los edificios en los que vivimos, las calles que recorremos y las aceras por las que andamos, examinando los orígenes y otras historias fascinantes que hay detrás de todos aquellos objetos familiares que permiten el buen funcionamiento de nuestra sociedad, desde las redes eléctricas y las fuentes de agua, hasta las señales de las calles.Magníficamente ilustrado, este libro cautivará a cualquiera que sienta curiosidad por el diseño, el urbanismo y las maravillas desconocidas del mundo que les rodea.',\n",
              "  'genero': '/genero/arquitectura/'},\n",
              " 'La invención del cuerpo: arte y erotismo en el mundo clásico': {'autor': 'Carmen Sánchez Fernández',\n",
              "  'sinopsis': 'En el mundo clásico, el pensamiento religioso, los hábitos sociales y la divergencia entre lo masculino y lo femenino dieron lugar a un peculiar arte erótico cuyo estudio ayuda a entender la compleja naturaleza de estas sociedades.Carmen Sánchez no plantea aquí un ensayo sobre la sexualidad en el mundo griego y romano, sino un recorrido por el imaginario visual del erotismo clásico, donde los textos se han tratado como ilustraciones con la intención de entender, explicar y, sobre todo, oír las imágenes. Este libro explora el erotismo en el arte de la cultura clásica, desde la invención del desnudo público hasta la construcción de las populares escenas de cortejo homosexual masculino, desde la utilización del falo como amuleto hasta la exploración de la alteridad del erotismo sobrenatural y mágico.',\n",
              "  'genero': '/genero/arte/'},\n",
              " 'Picatrix': {'autor': 'Maslama Ibn Ahmad Al-Mayriti',\n",
              "  'sinopsis': 'El Picatrix es un antiguo grimorio árabe de astrología y magia oculta que se ha ganado mala reputación por la obscena naturaleza de sus recetas mágicas. Sus crípticas descripciones astrológicas y hechizos cubren casi cualquier deseo o anhelo concebible, ha sido traducido y estudiado por muchas culturas a lo largo de los siglos, y continúa fascinando a los seguidores de lo oculto de todo el mundo.\\nFue originariamente escrito en árabe, titulado Ghāyat al-Ḥakīm, que se traduce como “La Intención del Sabio” o “La Meta del Sabio.” La mayor parte de los estudiosos creen que proviene del siglo XI, aunque hay argumentos bien fundados que lo datan en el siglo X, pues, según confirmación del autor en la introducción de la obra, fue escrito el año 348 anno hegirae (970 de la Era Cristiana). Con el paso del tiempo, el original en árabe fue mandado traducir al español, y más tarde al latín en 1256 por el rey de Castilla Alfonso X el Sabio a la Escuela de Traductores de Toledo. Fue entonces cuando se le dio el nombre latino de Picatrix.Una de las razones de su mala fama son los innumerables y repugnantes brebajes que tienen la intención de alterar el propio estado de conciencia, y que pueden llegar a provocar experiencias extracorpóreas o incluso la muerte. Entre sus ingredientes se incluyen: sangre, excreciones corporales y masa cerebral, mezclado todo ello con ingentes cantidades de hachís, opio y plantas psicoactivas.',\n",
              "  'genero': '/genero/astrologia/'},\n",
              " 'En busca de Venus': {'autor': 'Andrea Wulf',\n",
              "  'sinopsis': 'El emocionante relato de la primera colaboración científica internacional, por la autora de La invención de la naturaleza. Cómo los científicos ilustrados se unieron para medir las profundidades del universo. Durante dos días en 1761 y 1769, cientos de científicos de países europeos y de las colonias norteamericanas apuntaron sus telescopios hacia el cielo para observar un raro acontecimiento astronómico: el tránsito de Venus por delante de la superficie del Sol. Fueron enviados a los rincones más remotos de nuestro planeta para observar el encuentro celeste, que permitiría calcular el tamaño del sistema solar. En busca de Venus narra de manera extraordinaria la vida de las personas que se embarcaron en esta compleja y esencial aventura y nos ofrece un vívido retrato de las contribuciones y el entusiasmo que hubo detrás de la primera colaboración científica internacional, pero también nos presenta las rivalidades y los acontecimientos políticos que fueron obstaculizando cada paso de la investigación. Un libro rebosante de acción y detalles maravillosos que nos revela el espíritu de la Ilustración y la eterna obsesión del ser humano por entender el mundo.',\n",
              "  'genero': '/genero/astronomia/'},\n",
              " 'Morir es nada': {'autor': 'Pepe Rodríguez',\n",
              "  'sinopsis': 'El proceso de morir nos afecta a todos por igual; sufrimos con la muerte de las personas cercanas y nos angustia la perspectiva de la extinción propia, ¿pero comprendemos el hecho de morir?; ¿sabemos cómo encarar la recta final de la vida o qué hacer ante un diagnóstico terminal?; ¿conocemos qué necesidades tiene un adulto o un niño que se esta muriendo?; ¿sabemos cómo afrontar el sufrimiento y superar el duelo? En Morir es nada, Pepe Rodríguez aporta explicaciones y recursos para afrontar la última etapa vital, para asumirla con dignidad, en una sociedad que la teme y oculta, y aprender a vivirla —y a vivir— de otra manera.',\n",
              "  'genero': '/genero/autoayuda/'},\n",
              " 'Mi baile con el siglo': {'autor': 'Stéphane Hessel',\n",
              "  'sinopsis': 'El hombre que, con ¡Indignaos!, inspiró a millones de personas nació en Berlín en octubre de 1917, hijo de dos espíritus libres, el escritor de origen judío Franz Hessel y la pintora Hélène Grund. Ambos formaron con Henri-Pierre Rocher el célebre trío que retrató Truffaut en Jules et Jim. Creció y se formó en París, desde donde, en 1941, viajó a Londres para unirse a la Resistencia del general De Gaulle contra la invasión nazi. Detenido y brutalmente interrogado por la Gestapo, fue deportado al campo de exterminio de Buchenwald, del que logró salir tras intercambiar su identidad con la de un preso ya fallecido. Tras la segunda guerra mundial, en 1948, participó en la redacción de la Declaración Universal de los Derechos Humanos, e inició una carrera diplomática que le llevó a la Indochina francesa, Argel y Ginebra, y asumió tareas de mediador en situaciones extremas, como en Burundi en 1994, en vísperas del genocidio en la vecina Ruanda. Una dilatada labor reconocida en 1981 con la dignidad de embajador de Francia. Estas memorias, escritas con una sinceridad que emociona, pero siempre con pudor, desvelan a un personaje de convicciones profundas y corazón generoso, de elevada estatura moral, y convierten su testimonio en un verdadero baile con el siglo XX. Un baile que concluye con una pregunta esperanzada, pero también inquietante: «¿Conocerán nuestras sociedades una nueva alba o un crepúsculo definitivo?».',\n",
              "  'genero': '/genero/autobiografico/'},\n",
              " 'Argonáuticas': {'autor': 'Cayo Valerio Flaco',\n",
              "  'sinopsis': 'Prácticamente nada se sabe de Cayo Valerio Flaco, salvo que a finales del siglo I, en plena Edad de Plata de la literatura latina, reescribió en metro heroico la antiquísima leyenda de los argonautas. La fabulosa travesía de la nave Argo, la busca del vellocino de oro, los funestos amores de Jasón y Medea habían sido objeto de continua reelaboración por parte de numerosos autores griegos y romanos, pero Valerio supo buscar nuevos perfiles a personajes de sobra conocidos, nuevos significados a la historia contada, alterada y enriquecida por sus precursores. No sólo releyó las Argonáuticas griegas de Apolonio de Rodas a la luz de la Eneida de Virgilio, sino que integró en la gran tradición épica que va de Homero a Lucano la sombría tradición trágica que va de Eurípides a Séneca. El resultado es una deslumbrante epopeya que, por su trabajada complejidad, por su ironía y erudición, delata en cada verso la voluntad de emulación del epígono; un poema que ha sido calificado de clásico o neoclásico, pero también de romántico, barroco, manierista o parnasiano.\\n\\n\\nIMPORTANTE: Recomendamos descargar los libros de poesía en formato EPUB dado que en PDF pueden tener problemas de visualización.',\n",
              "  'genero': '/genero/aventuras/'},\n",
              " 'Los de Bilbao nacen donde quieren': {'autor': 'María Larrea',\n",
              "  'sinopsis': 'En junio de 1943 una prostituta de Bilbao deja al cuidado de unos jesuitas a su hijo recién nacido. Poco tiempo después, en Galicia, una mujer da a luz a una niña y la abandona en un convento. Con este punto de partida, Larrea recorre hacia atrás una complicada historia familiar que la lleva a Bilbao, la ciudad donde se encuentran las claves de sus orígenes. Una historia sobre adopciones ilegales con el trasfondo de los últimos coletazos del franquismo.',\n",
              "  'genero': '/genero/biografia/'},\n",
              " 'El río del Edén': {'autor': 'Richard Dawkins',\n",
              "  'sinopsis': '¿Cómo comenzó la bomba de replicación que llamamos «vida» y a dónde en el mundo o, mejor dicho, en el universo, se dirige? Escribiendo con un ingenio característico y una capacidad de clarificar fenómenos complejos (el The New York Times describió su estilo como «el tipo de divulgación científica que hace que el lector se sienta como un genio»), Richard Dawkins se enfrenta a este antiguo misterio.«Dawkins es, sobre todo, un expositor magistral, un escritor que entiende los asuntos tan claramente que obliga a sus lectores a entender también. El Río del Edén muestra estas virtudes al máximo.» —The New York Times Book Review.«El Río del Edén está lleno de metáforas que hacen que las cosas sean brillantemente claras… una introducción excelente a muchas ideas evolutivas importantes». —Nature.',\n",
              "  'genero': '/genero/divulgacion/'},\n",
              " 'Nadie escapará': {'autor': 'Hans Hellmut Kirst',\n",
              "  'sinopsis': 'Noticias de los últimos días de Europa.El malestar se extiende desde Polonia hasta Berlín. Aunque los políticos y militares del Este y del Oeste intentan controlar el levantamiento, se ven abrumados por los acontecimientos. En seis días, Europa se hunde en una caída que nadie quería. Los que prepararon la guerra perecen en ella. Los que no la querían también pagaron con su vida. Todo terminará en veinticuatro horas...En su informe sobre los últimos días de Europa, Hans Hellmut Kirst describe un acontecimiento que no ocurrió pero que podría sucedernos cualquier día: la Tercera Guerra Mundial, un gigantesco ataque nuclear que arrasa con todo lo que el hombre ha creado a lo largo de los siglos. Kirst no confió solo en su imaginación. La descripción del proceso político-militar y de la catástrofe nuclear se realizó con la colaboración de reconocidos expertos.',\n",
              "  'genero': '/genero/distopia/'},\n",
              " 'Por qué el tiempo vuela': {'autor': 'Alan Burdick',\n",
              "  'sinopsis': 'Nunca más volverás a mirar un reloj con los mismos ojos\\n\\nEn esta exploración ingeniosa, elegante e íntima, Alan Burdick, autor galardonado y redactor de la revista The New Yorker, embarca a los lectores en una búsqueda personal para comprender los relojes que hacen tictac dentro de todos nosotros.\\n\\nDurante casi una década, Burdick se dedicó a visitar a científicos que estudian las cuestiones más espinosas acerca de nuestras percepciones del tiempo. En su recorrido visitó el reloj más preciso del mundo (que existe solo en papel), descubrió que el «ahora» ha sucedido en realidad hace una fracción de segundo, encontró una vigésimo quinta hora en el día, vivió en el Ártico para perder por completo la noción del tiempo y, durante un instante fugaz en el laboratorio de un neurocientífico, hizo incluso retroceder el tiempo.\\n\\nPor qué el tiempo vuela es un clásico instantáneo, un examen vívido y profundamente conmovedor de nuestra relación con el tiempo. No lo dudes: nunca más volverás a mirar un reloj con los mismos ojos.',\n",
              "  'genero': '/genero/ciencia/'},\n",
              " 'El cumpleaños del mundo y otros relatos': {'autor': 'Ursula K. Le Guin',\n",
              "  'sinopsis': 'La inconfundible voz de Ursula K. Le Guin lleva décadas cautivando a millones de lectores. Madre de numerosos mundos y entrañables personajes, ahora retoma el universo Hainish para explorar las relaciones entre los dos sexos, postulando diversas formas de amor y matrimonio, dominación y discriminación, que invitan a reflexionar sobre nuestro propio orden social, sexual y emocional. Como hilo conductor, el tema del viaje como metáfora del conocimiento, de la vida y de la muerte.Siete relatos y una novela corta componen este magnífico volumen que a buen seguro engrosará las filas de admiradores de la prosa lírica, el ingenio y la lucidez de Ursula K. Le Guin.Premio Locus 2001 a «El cumpleaños del mundo»Premios Tiptree y Locus 1997 a «Las costumbres de las montañas»Premio Nebula 1995 a «Soledad»Premio James Tiptree 1995 a «La cuestión de Seggri»',\n",
              "  'genero': '/genero/ciencia-ficcion/'},\n",
              " 'La realidad oculta': {'autor': 'Brian Greene',\n",
              "  'sinopsis': 'Del autor de los bestsellers El universo elegante y El tejido del cosmos llega su libro más ambicioso y accesible, una obra que aborda una de las preguntas de mayor complejidad: ¿es el nuestro el único universo?Tenemos la intuición de que existe una entidad que engloba y contiene «todo». Es lo que tradicionalmente se ha denominado «Universo». No existe ninguna unidad conceptual más fundamental que ésta, aunque su naturaleza y relación con el espacio y el tiempo continúen siendo problemáticas. Eso sí, de lo que no parecía haber duda es de que el Universo, fuese lo que fuese, es único. Semejante creencia comenzó a ser socavada a mediados de la década de 1950, cuando para evitar el serio problema conceptual que implicaba aceptar que en el proceso de observación la naturaleza se manifiesta solo en una de las diferentes posibilidades físicas, se propuso la teoría de los «muchos universos»: las restantes posibilidades físicas se plasman en otros universos paralelos.Ahora bien, la mecánica cuántica ya no es el único escenario teórico que la favorece, como muestra en este libro el distinguido físico teórico Brian Greene: «Veremos (…) que si el espacio se extiende indefinidamente –una proposición que es compatible con todas las observaciones– entonces debe haber dominios allá fuera (probablemente muy allá) donde copias de usted y de mí y de todo lo demás disfrutan de versiones alternativas de la realidad que experimentamos aquí».Y no sustancia estas radicales afirmaciones a la manera de la ciencia ficción, sino basándose en la física más actual: en la teoría cosmológica inflacionaria y en diversas versiones de la teoría de cuerdas. Todo esto parece mera especulación, imaginación desbordada, pero la ciencia nos ha dado ya demasiadas muestras de que lo que es hoy es inimaginable mañana puede ser realidad.',\n",
              "  'genero': '/genero/ciencias-exactas/'},\n",
              " 'Estados Unidos de Amazon': {'autor': 'Alec MacGillis',\n",
              "  'sinopsis': 'A la manera de los grandes reportajes literarios, MacGillis disecciona la implacable compañía creada por Bezos y ofrece un relato desasosegante del brutal impacto que esta tiene en la vida de los ciudadanos. A lo largo de su recorrido por Estados Unidos, el autor cuenta las historias de aquellos que luchan por sobrevivir a la sombra de Amazon y de cómo esta promueve las desigualdades, la gentrificación y la precarización. El resultado es un relato íntimo del capitalismo contemporáneo, de un tejido social que se deshilacha a cada clic y del futuro que nos aguarda a los europeos.',\n",
              "  'genero': '/genero/ciencias-sociales/'},\n",
              " '¡Bienvenido Mr. Berlanga!': {'autor': 'Carlos Cañeque',\n",
              "  'sinopsis': '¡Bienvenido, Mr Berlanga! es una aproximación al universo de Luis García Berlanga, director de algunas de las mejores comedias que ha dado la historia del cine universal, a partir de su propia voz y de las impresiones de otros personajes que lo conocen en profundidad. Berlanga recuerda su vida y su filmografía en una distendida conversación en la que tienen cabida su peculiar forma de entender el cine como expresión irónica de lo social; el humor negro; Buñuel, Fellini y Chaplin; el erotismo y los problemas con la censura.El libro también recoge entrevistas con Pedro Almodóvar, Rafael Azcona, Juan Antonio Bardem, Pedro Beltrán, Jean-Claude Carriére, Román Gubern, Alfredo Matas, José Enrique Monterde, Ricardo Muñoz Suay y Fernando Trueba.Con contagioso entusiasmo, Carlos Cañeque y Maite Grau conducen al lector amante del buen cine a un apasionante diálogo sobre la sarcástica y mordaz mirada del autor de El verdugo.',\n",
              "  'genero': '/genero/cine/'},\n",
              " 'Dos hermanos': {'autor': 'Alberto Fuguet',\n",
              "  'sinopsis': 'Alberto Fuguet nació en Santiago de Chile. Es periodista y escritor. Ha llevado una multifacética carrera como crítico de cine, columnista, guionista y novelista. Entre sus obras destacan Sobredosis, Mala Onda, Por favor, rebobinar y Tinta roja.En un lugar de la noche fue la primera película chilena del 2000. Escrita por Alberto Fuguet y dirigida por Martín Rodríguez, este filme muestra una faceta poco explotada por el cine nacional: el road movie. Este libro es más que un guion. Es un recorrido por el proceso creativo de la película. Aquí el lector podrá leer el cuento —que fue atropellado en el camino a la pantalla— que dio origen al guion. Además hay una selección de artículos aparecidos en la prensa en torno al filme, algunas notas aclaratorias y otras donde el autor se reconoce en un arte que lo ha apasionado por siempre: el cine.«Nada se compara con crear y nada asusta y altera tanto como crear sabiendo que uno se arriesga a fracasar. Como me dijo un tipo en Silicon Valley: no sabes lo que es vivir, lo que es el peligro, hasta que te hayas independizado y tengas tu propia empresa… Yo no sabía lo que era el peligro, lo que era vivir al doble, al triple, hasta que se me ocurrió participar en un filme. Quizás ese sea el motivo, y no otro, por el cual estaría dispuesto a volver a hacerlo».',\n",
              "  'genero': '/genero/cinematografia/'},\n",
              " 'El molino del Floss': {'autor': 'George Eliot',\n",
              "  'sinopsis': 'Inspirada en gran parte en los recuerdos de la infancia de la autora, El molino del Floss gira en torno al desigual destino de Tom y Maggie Tulliver, los hijos del molinero. A pesar de la inteligencia natural deMaggie, es Tom, por ser varón, quien recibe la educación y en quien el padre de ambos confía para hacer frente al futuro del molino. Cuando los niños se acercan a la juventud la desgracia económica cae sobrelos Tulliver, y los hermanos se ven obligados a enfrentarse a las dificultades. Maggie, alter ego de Eliot, es uno de los personajes más fascinantes de toda su producción, una mujer sensible y apasionadaencerrada en un ambiente vulgar, monótono y, con frecuencia, ruín. A pesar del patetismo progresivo de la novela, un fino humor, altamente crítico, está siempre presente. Considerada, después de Middlemarch (1871-1872), la mejor obra de Eliot, El molino del Floss refleja aligual que ésta, a través de los conflictos morales de sus personajes, la preocupación metafísica de la autora.',\n",
              "  'genero': '/genero/costumbrista/'},\n",
              " 'Artificial. La nueva inteligencia y el contorno de lo humano': {'autor': 'Mariano Sigman',\n",
              "  'sinopsis': 'Ideas, herramientas y preguntas para aproximarse a la inteligencia artificial sin miedo, de la mano de Mariano Sigman, uno de los neurocientíficos más destacados del mundo, y Santiago Bilinkis, emprendedor y tecnólogo.Este no es un libro de oráculos o vaticinios, sino las reflexiones de dos autores que consideran que estar informados es la mejor forma de navegar la indefectible ola de la inteligencia artificial. En una conversación tan lúcida como estimulante, el neurocientífico superventas Mariano Sigman y el emprendedor Santiago Bilinkis repasan el origen, las utilidades y los riesgos de esta tecnología. ¿Será una lámpara de Aladino o una caja de Pandora? ¿Cómo acercarnos al mejor escenario? ¿Estamos caminando al borde del precipicio? ¿Qué ocurrirá si la inteligencia artificial encuentra aquello en lo que somos más débiles? Si bien exponen las razones por las que debemos ser cautos y responsables, huyen del pesimismo y nos invitan a pensar que de este desafío podemos sacar nuestra mejor versión.',\n",
              "  'genero': '/genero/comunicacion/'},\n",
              " 'Borges, un escritor en las orillas': {'autor': 'Beatriz Sarlo',\n",
              "  'sinopsis': 'No existe un escritor más argentino que Borges: él se interrogó, como nadie, sobre la forma de la literatura en una de las orillas de Occidente. Pero el tono nacional de su obra no depende de la representación de las cosas sino de la presentación de una pregunta: ¿cómo puede escribirse literatura en una nación culturalmente periférica? Borges escribió en un encuentro de caminos. Su obra no se instala del todo en ninguna parte: ni en el criollismo vanguardista de sus primeros libros ni en la erudición universalista de sus cuentos, falsos cuentos, ensayos y falsos ensayos, a partir de los años cuarenta. Por el contrario, está perturbada por la tensión de la mezcla y la nostalgia por una literatura europea que un latinoamericano nunca vive del todo como naturaleza original. Colocado en los límites, Borges es el escritor de «las orillas», alguien que, al mismo tiempo, es cosmopolita y profundamente nacional. Explicar esta tensión ha sido el objetivo de Beatriz Sarlo en este original ensayo que nos invita a leer de nuevo a Borges, cuando su obra parece amortajada por la fama que acompañó sus últimos años y el espectro inmóvil de una gloria póstuma.',\n",
              "  'genero': '/genero/critica/'},\n",
              " 'Tratados de critica literaria': {'autor': 'Dionisio de Halicarnaso',\n",
              "  'sinopsis': 'Crítico literario de primer orden, Dionisio centra sus comentarios tanto en el aspecto retórico formal como en el plano del contenido. Dionisio de Halicarnaso nació hacia 60 o 55 a. C. en esta ciudad de la costa de Asia Menor, pero su interés por la oratoria le llevó a trasladarse, en 30 a. C., a Roma, donde se dedicó a su enseñanza de retórica y compaginó la labor pedagógica y la composición de su obra capital –Historia antigua de Roma– con la redacción en griego de una variada colección de comentarios de crítica literaria. En este volumen se incluyen «Sobre los oradores antiguos» (una especie de preámbulo a una proyectada obra sobre los oradores áticos Lisias, Isócrates, Iseo y Demóstenes), comentarios acerca de distintos autores y «Sobre la imitación», tratado que ha llegado hasta nosotros de manera fragmentaria. Las demás obras sobre retórica y literatura de Dionisio también están publicadas en esta colección. Dionisio considera que la filosofía y la historiografía son meras disciplinas de la retórica, idea que influye en su valoración de los autores que comenta, pues realza a los oradores (sobre todo a Demóstenes), en detrimento de Platón y, en menor medida, de Tucídides. Crítico literario de primer orden, Dionisio centra sus comentarios tanto en el aspecto formal como en el plano del contenido. Es, además, vía inestimable de transmisión de fragmentos de obras que, de otro modo, se habrían perdido.',\n",
              "  'genero': '/genero/critica-y-teoria-literaria/'},\n",
              " 'En el reino del hielo': {'autor': 'Hampton Sides',\n",
              "  'sinopsis': 'La era de la exploración estaba llegando a su fin, pero el misterio del polo norte permaneció. Los contemporáneos describieron el polo como el «objeto inalcanzable de nuestros sueños», y el impulso de llenar este último gran espacio en blanco en el mapa creció irresistible. En 1879 el USS Jeannette zarpó de San Francisco con multitudes animando y en medio de un frenesí de publicidad. El barco y su tripulación, capitaneados por el heroico George De Long, se dirigían a las aguas inexploradas del Ártico, llevando las aspiraciones de un país joven que quería ser la primera nación en alcanzar el polo norte. Dos años después de la terrible travesía, el casco del Jeannette resultó roto por una impenetrable franja de hielo, obligando a la tripulación a abandonar la nave en medio de torrentes de agua. Horas más tarde, el barco se había hundido por debajo de la superficie, dejando a los hombres a mil millas al norte de Siberia, donde se enfrentaron a una caminata aparentemente imposible, a través del infinito hielo, con los suministros mínimos. En todo momento, ante la ceguera de la nieve y el asedio de los osos polares, ante tormentas feroces y laberintos de hielo, la tripulación se rebeló ante la locura y la hambruna mientras luchaban desesperadamente por sobrevivir. Llena de emocionantes e imprevisibles giros, En el reino del hielo es una fascinante historia de heroísmo y determinación en el lugar más brutal de la Tierra.',\n",
              "  'genero': '/genero/cronica/'},\n",
              " 'Al oeste del edén': {'autor': 'Jean Stein',\n",
              "  'sinopsis': 'En la ciudad de Los Ángeles el sol brilla prácticamente los trescientos sesenta y cinco días del año; en una de sus colinas el legendario cartel de Hollywood anuncia la fábrica de sueños más potente del mundo y en otras se suceden las mansiones. Varias de estas fastuosas residencias forman parte de este libro, que reconstruye la desmesurada historia de la ciudad a través de cinco familias emblemáticas, con su glamour, sus excesos, sus secretos de alcoba, sus extravagancias, su acumulación de riqueza y poder y sus destructivas tensiones.La autora nos presenta a los Doheny, cuyo patriarca inspiró ¡Petróleo!, de Upton Sinclair, y Pozos de ambición, de Paul Thomas Anderson; a Jack Warner y sus hermanos, que levantaron uno de los grandes estudios de Hollywood; a Jane Garland, una joven aspirante a actriz psíquicamente desequilibrada; a la estrella Jennifer Jones, su marido, el megalómano productor Selznick, y sus vástagos, de trágico destino, y, por último, a su propia familia y la figura de su padre, fundador de la Music Corporation of America, pieza clave de la poderosa industria musical.Al oeste del Edén explora un siglo de historia de Estados Unidos, con sus luces y sus sombras, e indaga en el mito del sueño americano y en su tenebroso reverso, con la Gran Depresión, el Comité de Actividades Antiamericanas, la Mafia, los tabloides... El libro, fruto de dos décadas de trabajo, está escrito con el método de la «historia oral» a partir de entrevistas con figuras como Joan Didion, Gore Vidal, Arthur Miller, Lauren Bacall, Warren Beatty, Jane Fonda, Dennis Hopper, Frank Gehry, Naomi Klein, Stephen Sondheim, miembros de las familias Warner, Jones, Selznick y Stein, terapeutas, chóferes, criadas... El intenso resultado es un imponente fresco de Los Ángeles.',\n",
              "  'genero': '/genero/cronicas/'},\n",
              " 'Las Brujas de Carhué': {'autor': 'Hugo Ramos Gambier',\n",
              "  'sinopsis': 'Dicen que las mejores historias de un escritor están en la infancia, que sólo hay que ir a buscarlas. Y al leer estas páginas queda muy claro que cuando de la infancia se rescatan leyendas contadas por una abuela la combinación no falla.\\nPara narrar los cuentos de Las brujas de Carhué, Hugo Ramos Gambier ha hecho sucesivas incursiones, reales o no, a esa ciudad de donde trajo mil vivencias de la niñez. Seleccionó las mejores, las revistió de literatura, y ahora las edita en este volumen.\\nRecomiendo perderse persiguiendo duendes, internarse en la maraña de \"La Vieja vizcacha\", descubrir hasta dónde llega la maldición en \"La leyenda del Kukai\". Porque un buen cuento de brujas atrapa a lectores de cualquier edad.\\nClaudia Cortalezzi',\n",
              "  'genero': '/genero/fantasia/'},\n",
              " 'Los griegos': {'autor': 'H. D. F. Kitto',\n",
              "  'sinopsis': 'Cada cultura, cada pueblo, cada época, y ello en términos tan perentorios; que cabría añadir, cada decenio, necesita expresar en alguna obra importante, extensa o condensada, su particular concepto de lo que ha dado en llamarse «el milagro griego». Este libro resume los grandes rasgos de la personalîdad y el carácter de ese pueblo maravilloso. Sabiamente breve, ofrece la doble virtud de reflejar el espíritu claro y sutil de un distinguido humanista, y, al propio tiempo, la madurez que la Inglaterra de hoy ha alcanzado en el campo de los estudios clásicos.',\n",
              "  'genero': '/genero/cultura/'},\n",
              " 'Mafalda: Femenino singular': {'autor': 'Quino',\n",
              "  'sinopsis': \"Por primera vez recopiladas en un libro, todas las tiras «feministas» de Mafalda.Mafalda, la irreverente niña que ha deleitado a generaciones con su visión humorística del mundo en que vivimos, es una de las más ilustres feministas de nuestra época. Cincuenta años después de su nacimiento, cuando movimientos como Time's Up o #MeToo han dado eco a mujeres de todo el mundo y la lucha por los derechos de las mujeres está más que nunca en el candelero, su lectura del mundo sigue en plena vigencia. Las viñetas del genial Quino adquieren hoy una fuerza extraordinaria y nos ayudan a tomar conciencia del camino recorrido y por recorrer para conseguir la igualdad de género. Las viñetas recogidas en este volumen dan buena cuenta del carácter feminista de esta niña que a sus seis años reivindica la curiosidad, la educación, el espíritu crítico y el papel de la mujer en el mundo, y que no está dispuesta a convertirse en un ama de casa de clase media dedicada a los quehaceres domésticos.\",\n",
              "  'genero': '/genero/comic/'},\n",
              " 'Florentino': {'autor': 'Ramón Álvarez de Mon',\n",
              "  'sinopsis': 'Una biografía rigurosa para comprender y conocer mejor al presidente del club más importante del mundo, Florentino Pérez.Ramón Álvarez de Mon relata el recorrido de Florentino Pérez al frente del Real Madrid, poniendo especial énfasis en las distintas estrategias de las dos etapas de Florentino como presidente del club blanco y entendiendo su segunda etapa como una rectificación de los aspectos que no funcionaron del todo bien en la primera.Su gestión económica; la venta de la ciudad deportiva, la compra de Valdebebas, nuevas estrategias en la política de compra y venta de jugadores, la reforma del Santiago Bernabéu, la Superliga. En la parte social; las elecciones, el voto por correo, el adiós de leyendas del club como Hierro, Del Bosque, Raúl, Casillas o Cristiano.',\n",
              "  'genero': '/genero/deporte/'},\n",
              " 'A solas con el mar': {'autor': 'Naomi Christine James',\n",
              "  'sinopsis': 'El 8 de junio de 1978 el mundo recibió la sorprendente noticia de que Naomí James, de veintiocho años de edad, había dado la vuelta al mundo en un velero, en solitario y batiendo al mismo tiempo todos los récords de velocidad. Hija de un criador de ganado en Nueva Zelanda, recién casada y con sólo dos años de experiencia, Naomí -que con anterioridad nunca había gobernado un barco de vela por sí sola- estableció una nueva marca mundial e ingresó en la historia de la navegación a vela.A solas con el mar es el relato espontáneo, vívido y cautivante de esa asombrosa travesía en solitario. Después de zarpar de Dartmouth, al sur de Inglaterra, Naomí James, a bordo de su yate, el Crusader, se apresta a cubrir 30.000 millas de navegación, en un itinerario inverso a la ruta seguida por Magallanes: tras rodear el continente africano, proyecta atravesar el océano Indico, recorrer el Pacífico hacia el sur, doblar el Cabo de Hornos, remontar el Atlántico y regresar al punto de partida. Naomí nos habla de su desesperación al estropearse su radio y enfrentarse con meses de silencio; de su desconcierto al descubrir -después de tres meses en alta mar- que había confundido la latitud con la longitud; de su pesar cuando Boris, el gato de la embarcación, cayó por la borda, y dé su terror ante el vuelco que dio su velero un amanecer. Al igual que todos los navegantes solitarios, Naomí temía el Cabo de Hornos; finalmente rodeó \"ese viejo fantasma\" casi sin darse cuenta: \"Incluso es posible que haya estado dormida en esos momentos.\"Esta historia de heroísmo con toques humanos y personales, de épico coraje y resistencia, debe figurar entre los clásicos de la literatura de grandes aventuras. No se trata meramente del memorable documento de un viaje histórico; el relato de Naomí nos habla también de las razones por las que los hombres -y las mujeres- desafían a los elementos y se atreven a intentar lo que parece imposible en su infatigable afán de superación y en la búsqueda del conocimiento de sí mismos.El 1.° de enero de 1979, en reconocimiento a su extraordinaria hazaña, Naomí James fue nombrada Dama Capitana de la Orden del Imperio Británico, uno de los títulos más elevados que se haya concedido en su país a una mujer.',\n",
              "  'genero': '/genero/deportes/'},\n",
              " 'El sueño de mi desvelo': {'autor': 'Antoni Daimiel',\n",
              "  'sinopsis': 'Esta es una mirada muy personal y nocturna de una competición fantástica como la NBA. Al autor le llegó hace más de quince años la oportunidad televisiva de trasladar, contar y explicar un mundo extraordinario teniendo que sacrificar para ello sus patrones fisiológicos y relaciones sociales. Junto al recordado Andrés Montes, Antoni Daimiel cambió de rutina, enloqueció hormonas y buscó refugio en la madrugada para administrar la cercanía progresiva de la mejor liga de baloncesto del mundo y de sus protagonistas. Viajes a Estados Unidos repletos de anécdotas y recuerdos con los Chicago Bulls de Michael Jordan, los San Antonio Spurs de Tim Duncan y el regreso a la gloria de Los Angeles Lakers con Phil Jackson. Una ensoñación galáctica y lejana que se ha convertido, con el tiempo, en una competición con un papel protagonista de jugadores españoles, desde la contundente irrupción de Pau Gasol hasta la consolidación de su hermano Marc y el reciente impacto mediático de Ricky Rubio. Historias del periodismo deportivo, de la televisión, del baloncesto. Relatos de viajes, perfiles deportivos, sociales y personales de las estrellas de la NBA, antecedentes penales y crónicas rosa y negra de los mejores jugadores del mundo completan este universo recopilado por Antoni Daimiel.',\n",
              "  'genero': '/genero/deportes-y-juegos/'},\n",
              " 'Diccionario de la lengua española (15.ª edición)': {'autor': 'Real Academia Española',\n",
              "  'sinopsis': 'Decimoquinta edición del Diccionario de la Real Academia Española de la Lengua (v15.0).',\n",
              "  'genero': '/genero/diccionarios-y-enciclopedias/'},\n",
              " 'La casa de los primates': {'autor': 'Sara Gruen',\n",
              "  'sinopsis': 'Isabel Duncan, científica del Laboratorio de Lenguaje de Grandes Primates, no comprende a la gente pero sí entiende a los simios, especialmente a los bonobos Sam, Bonzo, Lola, Mbongo, Jelani y Makena, que son capaces de razonar y de comunicarse en el lenguaje de signos americano. Isabel se siente más a gusto con ellos de lo que jamás se ha sentido entre los humanos, hasta que conoce a John Thigpen, un periodista centrado en su matrimonio que está escribiendo un artículo de interés humano. Pero, cuando una explosión hacer volar el laboratorio por los aires, la crónica de John se convierte en el reportaje de su vida.',\n",
              "  'genero': '/genero/didactico/'},\n",
              " 'Agilmente': {'autor': 'Estanislao Bachrach',\n",
              "  'sinopsis': '\"Hoy la neurociencia es clara: el cerebro aprende hasta el último día de\\nvida. Tu mente, mediante la aplicación de las técnicas correctas, puede\\nmodificar la anatomía y estructura\\nde tu cerebro. A través de estas páginas vas a lograr desarrollar todo\\ntu potencial y a entender los mecanismos de tus propios aprendizajes, a\\ncomprender cómo utilizar los sentidos, a ampliar la memoria, a focalizar\\nla atención, a controlar las emociones negativas y a disfrutar de las\\npositivas. Dejate llevar en un viaje alucinante y divertido hacia lo más\\nprofundo de tu cerebro porque, una vez que lo conozcas, tu vida va a\\ncambiar para siempre. Previo al ascenso de River, Estanislao Bachrach concentró junto al plantel y su director técnico. ÁgilMente es mucho más que un libro: son las fascinantes instrucciones\\nde uso, y abuso, de nuestro cerebro, por donde pasan los recuerdos, los\\nsentidos, los sueños… nosotros. Crear no cuesta nada. ¡Aquí comienza el\\nviaje!.” Diego Golombek, Biólogo y Divulgador científico',\n",
              "  'genero': '/genero/divulgacion-cientifica/'},\n",
              " 'Señalado por la muerte': {'autor': 'Irvine Welsh',\n",
              "  'sinopsis': 'Estamos en 2015 y los destinos de Renton, Begbie, Sick Boy y Spud vuelven a cruzarse. Es decir: tenemos de nuevo reunido al cuarteto protagonista de Trainspotting en lo que el autor ha anunciado como «el Grand Finale de la saga».Renton es ahora un exitoso representante de DJs que viaja por todo el mundo y se topa en un vuelo transatlántico con Begbie, reconvertido en artista de éxito, hombre casado y padre de familia. A los otros dos no les ha ido tan bien en la vida: Sick Boy sigue en lo del negocio de explotación del cuerpo femenino y Spud es una suerte de mendigo profesionalizado que pide dinero por las calles acompañado de su perro. Las cosas empiezan a complicarse con un turbio asunto de tráfico de órganos y riñones donados o robados, a lo que se suma un cadáver y la aparición de algún que otro secundario de lujo como el taxista priápico Terry Lawson, viejo conocido de los lectores fieles de Welsh.Y así, a un ritmo acelerado que no da tregua, nos deslizaremos por una enloquecida montaña rusa de sexo —explícito y a veces grotesco cómico—, drogas —en todo su amplio espectro—, alcohol, sátira social, reflexión sobre el paso del tiempo y las dudosas probabilidades de madurar, y desenfreno y delirio en cantidades industriales.En esta novela los protagonistas han alcanzado la mediana edad, pero ¿los ha hecho eso más sabios? ¿Han sentado cabeza? ¿Han aprendido algo de la vida? Esta nueva entrega y broche final de las andanzas de los ya icónicos personajes de Trainspottingno defraudará a los seguidores de Irvine Welsh, que sigue en plena forma y dispuesto a dar caña y guerra.',\n",
              "  'genero': '/genero/drama/'},\n",
              " 'Un fulgor en la oscuridad': {'autor': 'Julia Schnetzer',\n",
              "  'sinopsis': 'Extensiones infinitas, fósiles vivientes y virus marinos… Una cautivadora inmersión en los océanos del planeta de la mano de una joven bióloga marina que comparte su experiencia con el entusiasmo del mejor explorador.El mar es nuestro ecosistema más sorprendente y desconocido; ha viajado más gente al espacio que a las profundidades del océano. Detrás de algunos enigmas submarinos, como la inmortalidad de las medusas, el lenguaje de los delfines y el ciclo vital de los mosquitos marinos, subyacen los hallazgos más recientes sobre nuestro entorno y nuestra propia especie.Julia Schnetzer, apasionada investigadora, comparte esos nuevos conocimientos e insiste en el peligro que los plásticos y el calentamiento global suponen para los océanos, nuestra mayor fuente de oxígeno. Propone así, en esta obra, una fascinante inmersión informativa en los océanos del mundo.',\n",
              "  'genero': '/genero/ecologia/'},\n",
              " 'Hábitos para ser millonario': {'autor': 'Brian Tracy',\n",
              "  'sinopsis': '¿Por qué algunas personas son más exitosas que otras? El 95% de todo lo que piensas, sientes, haces y logras es resultado del hábito. Simplificando y organizando las ideas. Brian Tracy nos ofrece experiencias prácticas y probadas de los hábitos que han seguido las personas que han alcanzado el éxito en su vida. Para compartir los \"secretos del éxito\" Tracy utiliza argumentos y conocimientos sobre temas de filosofía, psicología y negocios, empleando un lenguaje de una claridad y seguridad como nadie más puede hacerlo.',\n",
              "  'genero': '/genero/economia/'},\n",
              " 'Enseñar pensamiento crítico': {'autor': 'bell hooks',\n",
              "  'sinopsis': 'La búsqueda del pensamiento libre es una actividad constante. En Enseñar pensamiento crítico, Hooks considera el aprendizaje el primer espacio para defender la diversidad, la igualdad y, en definitiva, la democracia. Si la enseñanza es el espacio donde desarrollar el pensamiento crítico, y el aprendizaje es una actividad que dura toda una vida, este libro aborda algunos de los problemas más urgentes que debemos enfrentar hoy en día dentro y fuera del aula. Enseñar pensamiento crítico es un libro imprescindible para cualquier persona que vea la educación como práctica de la libertad. Además de ser un manual para encontrar herramientas atrevidas con las que enfocar la enseñanza, también intenta cambiarlo todo, incluso a nosotros mismos. Hooks cuestiona cómo hemos aprendido hasta ahora, cuestiona los referentes y cuestiona el complejo equilibrio que nos permite enseñar, valorar y aprender a partir de obras escritas por autores racistas y sexistas, entre otros. Con esta obra intelectual, provocadora y alegre la autora celebra y reivindica el poder del pensamiento crítico. Sin duda, propone un cambio de paradigma en la educación, el aprendizaje y la transformación social.',\n",
              "  'genero': '/genero/educacion/'},\n",
              " 'Melancolía de izquierda: después de las utopías': {'autor': 'Enzo Traverso',\n",
              "  'sinopsis': 'Con el derrumbe del comunismo en 1989 las utopías del siglo XX desaparecieron y dejaron lugar a un presente cargado de memoria pero incapaz de proyectarse en el porvenir. Este nuevo vínculo entre historia y memoria permite redescubrir una tradición oculta, una visión melancólica de la izquierda que atraviesa la historia revolucionaria.A partir de un archivo vasto y heterogéneo de teoría, testimonios e imágenes, Enzo Traverso explora esta constelación melancólica desde perspectivas diversas: el análisis de una cultura izquierdista de la derrota, la descripción de una concepción marxista de la memoria, la construcción de una visión del duelo, y la investigación de la tensión entre el éxtasis y la pena que da forma a la bohemia revolucionaria. Se concentra también en algunas figuras que sintetizan distintas formas de melancolía de izquierda, de Marx a Benjamin, pasando por Trotski y Bensaïd, y en el análisis de una rica iconografía, desde pinturas de Courbet hasta afiches soviéticos de la década de 1920, o películas de Eisenstein, Theo Angelopoulos, Chris Marker y Ken Loach.En las antípodas de un manifiesto nostálgico, Traverso sostiene: «La melancolía de izquierda no significa el abandono de la idea del socialismo o de la esperanza de un futuro mejor; significa repensar el socialismo en un tiempo en que su memoria está perdida, oculta y olvidada y necesita ser redimida».',\n",
              "  'genero': '/genero/historia/'},\n",
              " 'Las noches que te debo': {'autor': 'Emily Delevigne',\n",
              "  'sinopsis': 'Me llamo Rain Sheridan y he tenido que tragarme mi orgullo y regresar a Nantucket, mi hogar, después de diez años sin pisar la isla. Me hice la promesa de no volver tras la muerte de mi padre, pero la salud de mi madre ha empeorado y sé que mi hermana no puede encargarse de todo. Sin embargo, nada me había preparado para que en mi primera noche en la isla me encontrase con Zack Levine, un empresario alto y de ojos azules con el que he terminado pasando una ardiente noche de pasión. A pesar de que ambos deseamos más, me he intentado hacer a la idea de que esto ha sido solo una aventura. Pero ahora no puedo dejar de pensar en él…Me llamo Zack Levine y soy uno de los empresarios más ricos de Nantucket. Soy dueño de varios restaurantes y del mejor hotel de la isla. Las mujeres han dejado de ser importantes en mi vida y solo me centro en mi trabajo. O eso pensaba hasta que hace nada coincidí con Rain Sheridan. Sabía que había estado fuera más de diez años y que no debía liarme con ella, pero la química sexual que hay entre nosotros fue incontenible e hizo que pasáramos una noche mágica juntos. Nos dijimos que sería eso, una noche y nada más, pero yo siempre consigo todo lo que quiero, y ahora la quiero a ella.',\n",
              "  'genero': '/genero/erotico/'},\n",
              " 'Manual del investigador paranormal': {'autor': 'Miguel Ángel Segura',\n",
              "  'sinopsis': 'Métodos, técnicas y experimentos prácticos para convertirse en un investigador del misterio. La primera guía que explica paso a paso cómo realizar una investigación paranormal seria, rigurosa y efectiva: las técnicas de investigación, los lugares más propicios, los diferentes fenómenos y el equipo técnico para la investigación. Todo esto y mucho más en forma de un manual práctico que le permitirá adentrarse en el apasionante mundo de lo paranormal.',\n",
              "  'genero': '/genero/esoterismo/'},\n",
              " 'La venganza será terrible: 30 años': {'autor': 'Alejandro Dolina',\n",
              "  'sinopsis': 'La Venganza será Terrible cumplió treinta años. Este libro recorre esa historia mediante anécdotas y reflexiones en la voz de su protagonista principal y en las voces de aquellos que orbitaron en el universo humorístico, filosófico y musical de su creador.Testimonios de oyentes célebres, confesiones de los que participaron, datos y sucesos insólitos, transcripciones de los mejores momentos de la historia del programa. Todo este material se completa con un prólogo de Gabriel Rolón y un archivo fotográfico inédito que llega hasta hoy, con el programa ya convertido en un espectáculo ambulante y más vigente que nunca.«Hacer radio salvó mi vida», asegura Alejandro Dolina en estas páginas. A la luz de los hechos, podría afirmarse que también salvó las vidas de algunos otros.',\n",
              "  'genero': '/genero/guion/'},\n",
              " 'Triple': {'autor': 'Ken Follett',\n",
              "  'sinopsis': 'Net Dickstein, uno de los mejores agentes secretos israelíes, tiene una misión crucial: hacer desaparecer el barco que transporta el uranio que Egipto necesita para poseer la bomba atómica. Ciertamente una misión casi imposible, ya que egipcios y palestinos no están dispuestos a contemplar pasivamente cómo se esfuma su gran baza para inclinar a su favor el conflicto de Oriente Medio... Una novela electrizante a partir de un suceso real.',\n",
              "  'genero': '/genero/espionaje/'},\n",
              " 'Apologético – A los gentiles': {'autor': 'Tertuliano',\n",
              "  'sinopsis': 'Quinto Septimio Florente Tertuliano (Cartago h. 160-h. 220) fue uno de los grandes escritores de la Iglesia, de portentosa capacidad argumentativa. Entre lo poco que sabemos de su vida hay que destacar que recibió una educación esmerada, que escribió como mínimo tres libros en griego y que fue versado en leyes, llegando a ejercer la abogacía; se desconocen las causas de su conversión al cristianismo, pero fue ordenado presbítero en la Iglesia de Cartago. Su rigorismo extremo y su temperamento vehemente le llevaron a separarse de la Iglesia e ingresar en los montanistas, que tampoco le satisficieron, por lo que pasó a fundar su propio grupo religioso, el de los tertulianistas. Combatió con ahínco el paganismo y las herejías, en especial el gnosticismo, en una intensa labor literaria de la que se conservan treinta y un escritos, no todos completos, clasificados en obras apologéticas, obras doctrinales y polémicas –destinadas a combatir los errores acerca de la doctrina– y obras morales y ascéticas. La Apologética es una de estas obras polémicas: en ella defiende la fe cristiana contra las calumnias de los paganos, que acusaban a los creyentes de la Iglesia Primitiva de ser adoradores de un asno (como sería propio de un culto oriental) y cometer sacrificios espantosos. Argumenta que es injusta la persecución de los cristianos, pues carece de fundamento, repasa qué emperadores favorecieron o persiguieron a los cristianos, denuncia el estado de postración moral de los romanos, sostiene que no se ha demostrado ninguna de las acusaciones formuladas contra los cristianos, las cuales son falsas e increíbles, y que son los gentiles quienes cometen aberraciones como la adoración de falsos dioses (hombres, ídolos y simulacros), recuerda que los cristianos no adoran la cabeza de jumento, ni palos derechos, ni al sol, sino al Dios de las Sagradas Escrituras, frente a la insensata idolatría romana, recuerda que el emperador no es un dios, sino sólo un hombre, y que los cristianos le respetan en esta cualidad o dimensión, a él como a todos los hombres, y por lo tanto no son la causa de las calamidades del mundo, ni son infructuosos, como sostienen algunos gentiles, y que las muertes de los cristianos perjudican al Imperio, para acabar exponiendo los fundamentos de la fe cristiana.',\n",
              "  'genero': '/genero/espiritualidad/'},\n",
              " 'Cuentos al amor de la lumbre': {'autor': 'Antonio Rodríguez Almodóvar',\n",
              "  'sinopsis': 'La fortuna que han alcanzado las recopilaciones de cuentos populares provenientes de otros ámbitos culturales —como las hechas en su día por los hermanos Grimm o, en menor medida, Perrault o Andersen— a menudo ha venido a oscurecer, de rechazo, el maravilloso acervo de relatos pertenecientes a la tradición de nuestro país. Antonio Rodríguez Almodóvar ha reunido en Cuentos al amor de la lumbre una muestra significativa de los cuentos populares españoles. Este volumen recoge los cuentos maravillosos, dentro de los cuales se hallarán, por ejemplo, aquellos que giran en torno a Blancaflor, Juan el Oso, los príncipes y princesas encantados, las tres maravillas del mundo, niñas perseguidas, niños valientes, princesas y pastores, muertos agradecidos, seres mitológicos, la ambición castigada y la muerte. También los cuentos de costumbres (entre ellos los referentes a niños en peligro —Garbancito o La casita de turrón—, pícaros, pobres y ricos, tontos, mujeres difíciles, así como cuentos de miedo) y los cuentos de animales, protagonizados por lobos, zorras y otras muchas criaturas.',\n",
              "  'genero': '/genero/fantastico/'},\n",
              " 'Carta al padre': {'autor': 'Franz Kafka',\n",
              "  'sinopsis': 'He aquí el inicio de una carta que constituye la piedra de toque y la clave de la concepción del mundo más angustiosa y atrayente del presente siglo:«Hace poco me preguntaste por qué digo que te tengo miedo. Como de costumbre, no supe darte una respuesta, en parte precisamente por el miedo que te tengo, en parte porque para explicar los motivos de ese miedo necesito muchos pormenores que no puedo tener medianamente presentes cuando hablo. Y si intento aquí responderte por escrito, sólo será de un modo muy imperfecto, porque el miedo y sus secuelas me disminuyen frente a ti, incluso escribiendo, y porque la amplitud de la materia supera mi memoria y mi capacidad de raciocinio».',\n",
              "  'genero': '/genero/ficcion/'},\n",
              " 'Hijos de Ápate: breve filosofía de la verdad, la posverdad y la mentira': {'autor': 'Alicja Gescinska',\n",
              "  'sinopsis': 'Cuando Pandora abrió su famosa caja y la diosa Ápate escapó de su prisión, el engaño y la mentira se extendieron por todo el mundo. Desde entonces, Ápate vive entre nosotros y, según argumenta Gescinska en este ensayo, todos descendemos de ella. Pero como hijos de Ápate podemos rebelarnos y ofrecer resistencia a la tentación de la mentira, lo cual nunca fue tan necesario como en estos tiempos de posverdad, hechos alternativos y noticias falsas.El auténtico problema de nuestra era es la falta de autenticidad y veracidad, conceptos que Gescinska define, respectivamente, como la sinceridad con nosotros mismos y con los demás. Lo que determina la calidad de una afirmación es la intención del hablante. Por eso, para combatir la proliferación de la mentira no basta con ofrecer más herramientas con las que comprobar los hechos. Sin un nuevo compromiso con la autenticidad y la veracidad, la democracia está más amenazada y, con ello, corremos el riesgo de perder nuestro bien más preciado: la libertad.',\n",
              "  'genero': '/genero/filosofia/'},\n",
              " 'Como el río que fluye': {'autor': 'Paulo Coelho',\n",
              "  'sinopsis': 'Apreciaciones estéticas, observaciones sobre la naturaleza humana, la creación literaria, la historia o el devenir de la vida conforman este atractivo abanico de posibilidades para adentrarse en la obra del escritor brasileño Paulo Coelho. Como el río que fluye recopila una selección de breves y profundos relatos, que nos permitirán sumergirnos en la mirada y el pensamiento de su creador; mirada plácida y tranquila que nos descubre con sencillez la esencia de una filosofía hecha literatura.',\n",
              "  'genero': '/genero/filosofico/'},\n",
              " 'El laberinto cuántico: cómo Richard Feynman y John Wheeler revolucionaron el tiempo y la realidad': {'autor': 'Paul Halpern',\n",
              "  'sinopsis': 'En 1939, Richard Feynman, un brillante graduado del MIT, llegó a la oficina de Princeton de John Wheeler para presentarse como su asistente. A pesar de sus diferencias —Wheeler hablaba con voz suave y era un inconformista lleno de ideas descabelladas sobre el universo, y el bullicioso Feynman era un físico cauteloso que creía solo lo que podía probarse— nació entre ellos una amistad y una colaboración que les llevó a un replanteamiento completo de la naturaleza del tiempo y la realidad.Feynman mostró cómo la realidad cuántica es una combinación de posibilidades alternativas y contradictorias, y Wheeler desarrolló su concepto de agujeros de gusano. La Física cuántica nunca volvería a ser la misma.',\n",
              "  'genero': '/genero/fisica/'},\n",
              " 'Economía comestible: un economista hambriento explica el mundo': {'autor': 'Ha-Joon Chang',\n",
              "  'sinopsis': 'Cuando, en los años ochenta, el economista Ha-Joon Chang aterrizó por primera vez en Reino Unido desde Corea del Sur, se encontró con un país que comenzaba a salir de la insípida dieta inglesa y a experimentar con los sabores del resto del mundo. Era un trayecto inverso al que estaba recorriendo la economía, cada vez más acomodada en una única escuela. Su nuevo y esperado libro, Economía comestible, demuestra con ejemplos claros y sabrosos que del mismo modo que es esencial abrirse a las diversas tradiciones culinarias también lo es disponer de una amplia variedad de perspectivas económicas.En este fascinante y delicioso volumen, Chang convierte en apetecibles todo tipo de ideas económicas, explicándolas a través de algunos ingredientes y recetas de diferentes lugares del planeta. Así, el chocolate puede ser una dulce adicción, pero aporta emocionantes ideas sobre las economías posindustriales del conocimiento; y mientras que la okra hace que el gumbo del sur de Estados Unidos tenga una suavidad que derrite el corazón, también remite a la enmarañada relación entre el capitalismo y la libertad. Desde el coste oculto del trabajo del hogar hasta el lenguaje engañoso del libre mercado, mientras cocina platos de todo el mundo, como el sándwich favorito de Elvis, las gambas al ajillo españolas y el dotorimuk coreano, este irresistible divulgador sirve un festín de ideas audaces fácil de digerir y con el que cambiar el mundo.',\n",
              "  'genero': '/genero/gastronomia/'},\n",
              " 'El mundo inconmensurable': {'autor': 'William Atkins',\n",
              "  'sinopsis': 'Una travesía por ocho desiertos de los cinco continentes donde el autor recupera la historia de esos lugares áridos e inhóspitos.«Un relato de viajes delicioso y refrescante [...]. A un mundo empequeñecido por Google Earth, Atkins le recuerda que el verdadero descubrimiento sigue siendo no solo posible, sino también estimulante [...]. Atkins ha logrado esa rara hazaña: ver el mundo a través de un grano de arena».Oliver Balch, Financial TimesUna tercera parte de la superficie terrestre está ocupada por desiertos, lugares inhóspitos y desolados que han cautivado a la humanidad desde el comienzo de la Historia. Desde los profetas de la Biblia hasta Marco Polo, desde Lawrence de Arabia hasta Gertrude Bell, los viajeros han encontrado en estas áridas extensiones lugares malditos que debían evitarse, o cruzarse lo más rápido posible. Pero para aquellos que han hecho de los desiertos su hogar, el «espantoso vacío» descrito por los exploradores es rico en recursos y significado.William Atkins decidió emprender una travesía por ocho grandes desiertos de cinco continentes: su viaje le llevó del Cuarto Vacío de Arabia Saudí a los lugares donde se llevan a cabo pruebas nucleares en Australia, del desecado mar de Aral en Kazajistán a las volátiles dunas del noroeste de China, de las disputadas fronteras del desierto de Sonora al desenfrenado festival Burning Man en el Black Rock de Nevada o a los monasterios ancestrales del desierto Oriental de Egipto. Atkins pone luz sobre las gentes, la historia, la topografía y el simbolismo de estos lugares extraordinarios (y a menudo conflictivos) en una obra que, galardonada con el Stanford Dolman Writing Award, está destinada a convertirse en un clásico de la literatura de viajes.',\n",
              "  'genero': '/genero/geografia/'}}"
            ]
          },
          "metadata": {},
          "execution_count": 41
        }
      ]
    },
    {
      "cell_type": "markdown",
      "source": [
        "# DataFrame\n"
      ],
      "metadata": {
        "id": "Wd_l7RapAV_k"
      }
    },
    {
      "cell_type": "code",
      "source": [
        "import pandas as pd"
      ],
      "metadata": {
        "id": "2QjBqqvpAahd"
      },
      "execution_count": 27,
      "outputs": []
    },
    {
      "cell_type": "code",
      "source": [
        "# Convertir el diccionario en un DataFrame y añadir la columna \"Libro\"\n",
        "df = pd.DataFrame.from_dict(dicAutor, orient='index').reset_index()\n",
        "df = df.rename(columns={'index': 'Libro'})"
      ],
      "metadata": {
        "id": "SsFn8OcWAXQj"
      },
      "execution_count": 61,
      "outputs": []
    },
    {
      "cell_type": "code",
      "source": [
        "df['genero'] = df['genero'].str.replace('/genero/', '')\n",
        "df['genero'] = df['genero'].str.replace('/', '')\n",
        "\n"
      ],
      "metadata": {
        "id": "R8W7CrMdCRIt"
      },
      "execution_count": 64,
      "outputs": []
    },
    {
      "cell_type": "code",
      "source": [
        "df.head()"
      ],
      "metadata": {
        "colab": {
          "base_uri": "https://localhost:8080/",
          "height": 206
        },
        "id": "Aso8SqMWAccs",
        "outputId": "1fedacff-344a-4482-8f12-ccad3b90f120"
      },
      "execution_count": 65,
      "outputs": [
        {
          "output_type": "execute_result",
          "data": {
            "text/plain": [
              "                                               Libro  \\\n",
              "0                         El mundo de la arqueología   \n",
              "1                                La ciudad invisible   \n",
              "2  La invención del cuerpo: arte y erotismo en el...   \n",
              "3                                           Picatrix   \n",
              "4                                  En busca de Venus   \n",
              "\n",
              "                          autor  \\\n",
              "0                   C. W. Ceram   \n",
              "1                Kurt Kohlstedt   \n",
              "2      Carmen Sánchez Fernández   \n",
              "3  Maslama Ibn Ahmad Al-Mayriti   \n",
              "4                   Andrea Wulf   \n",
              "\n",
              "                                            sinopsis        genero  \n",
              "0  Las maravillas de la tumba de Tutankamen, la T...   arqueologia  \n",
              "1  La ciudad invisible nos invita a explorar de m...  arquitectura  \n",
              "2  En el mundo clásico, el pensamiento religioso,...          arte  \n",
              "3  El Picatrix es un antiguo grimorio árabe de as...    astrologia  \n",
              "4  El emocionante relato de la primera colaboraci...    astronomia  "
            ],
            "text/html": [
              "\n",
              "  <div id=\"df-8df04b31-a440-4b48-b6b1-da260fe9e35e\" class=\"colab-df-container\">\n",
              "    <div>\n",
              "<style scoped>\n",
              "    .dataframe tbody tr th:only-of-type {\n",
              "        vertical-align: middle;\n",
              "    }\n",
              "\n",
              "    .dataframe tbody tr th {\n",
              "        vertical-align: top;\n",
              "    }\n",
              "\n",
              "    .dataframe thead th {\n",
              "        text-align: right;\n",
              "    }\n",
              "</style>\n",
              "<table border=\"1\" class=\"dataframe\">\n",
              "  <thead>\n",
              "    <tr style=\"text-align: right;\">\n",
              "      <th></th>\n",
              "      <th>Libro</th>\n",
              "      <th>autor</th>\n",
              "      <th>sinopsis</th>\n",
              "      <th>genero</th>\n",
              "    </tr>\n",
              "  </thead>\n",
              "  <tbody>\n",
              "    <tr>\n",
              "      <th>0</th>\n",
              "      <td>El mundo de la arqueología</td>\n",
              "      <td>C. W. Ceram</td>\n",
              "      <td>Las maravillas de la tumba de Tutankamen, la T...</td>\n",
              "      <td>arqueologia</td>\n",
              "    </tr>\n",
              "    <tr>\n",
              "      <th>1</th>\n",
              "      <td>La ciudad invisible</td>\n",
              "      <td>Kurt Kohlstedt</td>\n",
              "      <td>La ciudad invisible nos invita a explorar de m...</td>\n",
              "      <td>arquitectura</td>\n",
              "    </tr>\n",
              "    <tr>\n",
              "      <th>2</th>\n",
              "      <td>La invención del cuerpo: arte y erotismo en el...</td>\n",
              "      <td>Carmen Sánchez Fernández</td>\n",
              "      <td>En el mundo clásico, el pensamiento religioso,...</td>\n",
              "      <td>arte</td>\n",
              "    </tr>\n",
              "    <tr>\n",
              "      <th>3</th>\n",
              "      <td>Picatrix</td>\n",
              "      <td>Maslama Ibn Ahmad Al-Mayriti</td>\n",
              "      <td>El Picatrix es un antiguo grimorio árabe de as...</td>\n",
              "      <td>astrologia</td>\n",
              "    </tr>\n",
              "    <tr>\n",
              "      <th>4</th>\n",
              "      <td>En busca de Venus</td>\n",
              "      <td>Andrea Wulf</td>\n",
              "      <td>El emocionante relato de la primera colaboraci...</td>\n",
              "      <td>astronomia</td>\n",
              "    </tr>\n",
              "  </tbody>\n",
              "</table>\n",
              "</div>\n",
              "    <div class=\"colab-df-buttons\">\n",
              "\n",
              "  <div class=\"colab-df-container\">\n",
              "    <button class=\"colab-df-convert\" onclick=\"convertToInteractive('df-8df04b31-a440-4b48-b6b1-da260fe9e35e')\"\n",
              "            title=\"Convert this dataframe to an interactive table.\"\n",
              "            style=\"display:none;\">\n",
              "\n",
              "  <svg xmlns=\"http://www.w3.org/2000/svg\" height=\"24px\" viewBox=\"0 -960 960 960\">\n",
              "    <path d=\"M120-120v-720h720v720H120Zm60-500h600v-160H180v160Zm220 220h160v-160H400v160Zm0 220h160v-160H400v160ZM180-400h160v-160H180v160Zm440 0h160v-160H620v160ZM180-180h160v-160H180v160Zm440 0h160v-160H620v160Z\"/>\n",
              "  </svg>\n",
              "    </button>\n",
              "\n",
              "  <style>\n",
              "    .colab-df-container {\n",
              "      display:flex;\n",
              "      gap: 12px;\n",
              "    }\n",
              "\n",
              "    .colab-df-convert {\n",
              "      background-color: #E8F0FE;\n",
              "      border: none;\n",
              "      border-radius: 50%;\n",
              "      cursor: pointer;\n",
              "      display: none;\n",
              "      fill: #1967D2;\n",
              "      height: 32px;\n",
              "      padding: 0 0 0 0;\n",
              "      width: 32px;\n",
              "    }\n",
              "\n",
              "    .colab-df-convert:hover {\n",
              "      background-color: #E2EBFA;\n",
              "      box-shadow: 0px 1px 2px rgba(60, 64, 67, 0.3), 0px 1px 3px 1px rgba(60, 64, 67, 0.15);\n",
              "      fill: #174EA6;\n",
              "    }\n",
              "\n",
              "    .colab-df-buttons div {\n",
              "      margin-bottom: 4px;\n",
              "    }\n",
              "\n",
              "    [theme=dark] .colab-df-convert {\n",
              "      background-color: #3B4455;\n",
              "      fill: #D2E3FC;\n",
              "    }\n",
              "\n",
              "    [theme=dark] .colab-df-convert:hover {\n",
              "      background-color: #434B5C;\n",
              "      box-shadow: 0px 1px 3px 1px rgba(0, 0, 0, 0.15);\n",
              "      filter: drop-shadow(0px 1px 2px rgba(0, 0, 0, 0.3));\n",
              "      fill: #FFFFFF;\n",
              "    }\n",
              "  </style>\n",
              "\n",
              "    <script>\n",
              "      const buttonEl =\n",
              "        document.querySelector('#df-8df04b31-a440-4b48-b6b1-da260fe9e35e button.colab-df-convert');\n",
              "      buttonEl.style.display =\n",
              "        google.colab.kernel.accessAllowed ? 'block' : 'none';\n",
              "\n",
              "      async function convertToInteractive(key) {\n",
              "        const element = document.querySelector('#df-8df04b31-a440-4b48-b6b1-da260fe9e35e');\n",
              "        const dataTable =\n",
              "          await google.colab.kernel.invokeFunction('convertToInteractive',\n",
              "                                                    [key], {});\n",
              "        if (!dataTable) return;\n",
              "\n",
              "        const docLinkHtml = 'Like what you see? Visit the ' +\n",
              "          '<a target=\"_blank\" href=https://colab.research.google.com/notebooks/data_table.ipynb>data table notebook</a>'\n",
              "          + ' to learn more about interactive tables.';\n",
              "        element.innerHTML = '';\n",
              "        dataTable['output_type'] = 'display_data';\n",
              "        await google.colab.output.renderOutput(dataTable, element);\n",
              "        const docLink = document.createElement('div');\n",
              "        docLink.innerHTML = docLinkHtml;\n",
              "        element.appendChild(docLink);\n",
              "      }\n",
              "    </script>\n",
              "  </div>\n",
              "\n",
              "\n",
              "<div id=\"df-b97ac0e6-0882-4f68-a848-79c4751dd3d4\">\n",
              "  <button class=\"colab-df-quickchart\" onclick=\"quickchart('df-b97ac0e6-0882-4f68-a848-79c4751dd3d4')\"\n",
              "            title=\"Suggest charts\"\n",
              "            style=\"display:none;\">\n",
              "\n",
              "<svg xmlns=\"http://www.w3.org/2000/svg\" height=\"24px\"viewBox=\"0 0 24 24\"\n",
              "     width=\"24px\">\n",
              "    <g>\n",
              "        <path d=\"M19 3H5c-1.1 0-2 .9-2 2v14c0 1.1.9 2 2 2h14c1.1 0 2-.9 2-2V5c0-1.1-.9-2-2-2zM9 17H7v-7h2v7zm4 0h-2V7h2v10zm4 0h-2v-4h2v4z\"/>\n",
              "    </g>\n",
              "</svg>\n",
              "  </button>\n",
              "\n",
              "<style>\n",
              "  .colab-df-quickchart {\n",
              "      --bg-color: #E8F0FE;\n",
              "      --fill-color: #1967D2;\n",
              "      --hover-bg-color: #E2EBFA;\n",
              "      --hover-fill-color: #174EA6;\n",
              "      --disabled-fill-color: #AAA;\n",
              "      --disabled-bg-color: #DDD;\n",
              "  }\n",
              "\n",
              "  [theme=dark] .colab-df-quickchart {\n",
              "      --bg-color: #3B4455;\n",
              "      --fill-color: #D2E3FC;\n",
              "      --hover-bg-color: #434B5C;\n",
              "      --hover-fill-color: #FFFFFF;\n",
              "      --disabled-bg-color: #3B4455;\n",
              "      --disabled-fill-color: #666;\n",
              "  }\n",
              "\n",
              "  .colab-df-quickchart {\n",
              "    background-color: var(--bg-color);\n",
              "    border: none;\n",
              "    border-radius: 50%;\n",
              "    cursor: pointer;\n",
              "    display: none;\n",
              "    fill: var(--fill-color);\n",
              "    height: 32px;\n",
              "    padding: 0;\n",
              "    width: 32px;\n",
              "  }\n",
              "\n",
              "  .colab-df-quickchart:hover {\n",
              "    background-color: var(--hover-bg-color);\n",
              "    box-shadow: 0 1px 2px rgba(60, 64, 67, 0.3), 0 1px 3px 1px rgba(60, 64, 67, 0.15);\n",
              "    fill: var(--button-hover-fill-color);\n",
              "  }\n",
              "\n",
              "  .colab-df-quickchart-complete:disabled,\n",
              "  .colab-df-quickchart-complete:disabled:hover {\n",
              "    background-color: var(--disabled-bg-color);\n",
              "    fill: var(--disabled-fill-color);\n",
              "    box-shadow: none;\n",
              "  }\n",
              "\n",
              "  .colab-df-spinner {\n",
              "    border: 2px solid var(--fill-color);\n",
              "    border-color: transparent;\n",
              "    border-bottom-color: var(--fill-color);\n",
              "    animation:\n",
              "      spin 1s steps(1) infinite;\n",
              "  }\n",
              "\n",
              "  @keyframes spin {\n",
              "    0% {\n",
              "      border-color: transparent;\n",
              "      border-bottom-color: var(--fill-color);\n",
              "      border-left-color: var(--fill-color);\n",
              "    }\n",
              "    20% {\n",
              "      border-color: transparent;\n",
              "      border-left-color: var(--fill-color);\n",
              "      border-top-color: var(--fill-color);\n",
              "    }\n",
              "    30% {\n",
              "      border-color: transparent;\n",
              "      border-left-color: var(--fill-color);\n",
              "      border-top-color: var(--fill-color);\n",
              "      border-right-color: var(--fill-color);\n",
              "    }\n",
              "    40% {\n",
              "      border-color: transparent;\n",
              "      border-right-color: var(--fill-color);\n",
              "      border-top-color: var(--fill-color);\n",
              "    }\n",
              "    60% {\n",
              "      border-color: transparent;\n",
              "      border-right-color: var(--fill-color);\n",
              "    }\n",
              "    80% {\n",
              "      border-color: transparent;\n",
              "      border-right-color: var(--fill-color);\n",
              "      border-bottom-color: var(--fill-color);\n",
              "    }\n",
              "    90% {\n",
              "      border-color: transparent;\n",
              "      border-bottom-color: var(--fill-color);\n",
              "    }\n",
              "  }\n",
              "</style>\n",
              "\n",
              "  <script>\n",
              "    async function quickchart(key) {\n",
              "      const quickchartButtonEl =\n",
              "        document.querySelector('#' + key + ' button');\n",
              "      quickchartButtonEl.disabled = true;  // To prevent multiple clicks.\n",
              "      quickchartButtonEl.classList.add('colab-df-spinner');\n",
              "      try {\n",
              "        const charts = await google.colab.kernel.invokeFunction(\n",
              "            'suggestCharts', [key], {});\n",
              "      } catch (error) {\n",
              "        console.error('Error during call to suggestCharts:', error);\n",
              "      }\n",
              "      quickchartButtonEl.classList.remove('colab-df-spinner');\n",
              "      quickchartButtonEl.classList.add('colab-df-quickchart-complete');\n",
              "    }\n",
              "    (() => {\n",
              "      let quickchartButtonEl =\n",
              "        document.querySelector('#df-b97ac0e6-0882-4f68-a848-79c4751dd3d4 button');\n",
              "      quickchartButtonEl.style.display =\n",
              "        google.colab.kernel.accessAllowed ? 'block' : 'none';\n",
              "    })();\n",
              "  </script>\n",
              "</div>\n",
              "\n",
              "    </div>\n",
              "  </div>\n"
            ],
            "application/vnd.google.colaboratory.intrinsic+json": {
              "type": "dataframe",
              "variable_name": "df",
              "summary": "{\n  \"name\": \"df\",\n  \"rows\": 49,\n  \"fields\": [\n    {\n      \"column\": \"Libro\",\n      \"properties\": {\n        \"dtype\": \"string\",\n        \"num_unique_values\": 49,\n        \"samples\": [\n          \"La realidad oculta\",\n          \"Como el r\\u00edo que fluye\",\n          \"Econom\\u00eda comestible: un economista hambriento explica el mundo\"\n        ],\n        \"semantic_type\": \"\",\n        \"description\": \"\"\n      }\n    },\n    {\n      \"column\": \"autor\",\n      \"properties\": {\n        \"dtype\": \"string\",\n        \"num_unique_values\": 49,\n        \"samples\": [\n          \"Brian Greene\",\n          \"Paulo Coelho\",\n          \"Ha-Joon Chang\"\n        ],\n        \"semantic_type\": \"\",\n        \"description\": \"\"\n      }\n    },\n    {\n      \"column\": \"sinopsis\",\n      \"properties\": {\n        \"dtype\": \"string\",\n        \"num_unique_values\": 49,\n        \"samples\": [\n          \"Del autor de los bestsellers El universo elegante y El tejido del cosmos llega su libro m\\u00e1s ambicioso y accesible, una obra que aborda una de las preguntas de mayor complejidad: \\u00bfes el nuestro el \\u00fanico universo?Tenemos la intuici\\u00f3n de que existe una entidad que engloba y contiene \\u00abtodo\\u00bb. Es lo que tradicionalmente se ha denominado \\u00abUniverso\\u00bb. No existe ninguna unidad conceptual m\\u00e1s fundamental que \\u00e9sta, aunque su naturaleza y relaci\\u00f3n con el espacio y el tiempo contin\\u00faen siendo problem\\u00e1ticas. Eso s\\u00ed, de lo que no parec\\u00eda haber duda es de que el Universo, fuese lo que fuese, es \\u00fanico. Semejante creencia comenz\\u00f3 a ser socavada a mediados de la d\\u00e9cada de 1950, cuando para evitar el serio problema conceptual que implicaba aceptar que en el proceso de observaci\\u00f3n la naturaleza se manifiesta solo en una de las diferentes posibilidades f\\u00edsicas, se propuso la teor\\u00eda de los \\u00abmuchos universos\\u00bb: las restantes posibilidades f\\u00edsicas se plasman en otros universos paralelos.Ahora bien, la mec\\u00e1nica cu\\u00e1ntica ya no es el \\u00fanico escenario te\\u00f3rico que la favorece, como muestra en este libro el distinguido f\\u00edsico te\\u00f3rico Brian Greene: \\u00abVeremos (\\u2026) que si el espacio se extiende indefinidamente \\u2013una proposici\\u00f3n que es compatible con todas las observaciones\\u2013 entonces debe haber dominios all\\u00e1 fuera (probablemente muy all\\u00e1) donde copias de usted y de m\\u00ed y de todo lo dem\\u00e1s disfrutan de versiones alternativas de la realidad que experimentamos aqu\\u00ed\\u00bb.Y no sustancia estas radicales afirmaciones a la manera de la ciencia ficci\\u00f3n, sino bas\\u00e1ndose en la f\\u00edsica m\\u00e1s actual: en la teor\\u00eda cosmol\\u00f3gica inflacionaria y en diversas versiones de la teor\\u00eda de cuerdas. Todo esto parece mera especulaci\\u00f3n, imaginaci\\u00f3n desbordada, pero la ciencia nos ha dado ya demasiadas muestras de que lo que es hoy es inimaginable ma\\u00f1ana puede ser realidad.\",\n          \"Apreciaciones est\\u00e9ticas, observaciones sobre la naturaleza humana, la creaci\\u00f3n literaria, la historia o el devenir de la vida conforman este atractivo abanico de posibilidades para adentrarse en la obra del escritor brasile\\u00f1o Paulo Coelho. Como el r\\u00edo que fluye recopila una selecci\\u00f3n de breves y profundos relatos, que nos permitir\\u00e1n sumergirnos en la mirada y el pensamiento de su creador; mirada pl\\u00e1cida y tranquila que nos descubre con sencillez la esencia de una filosof\\u00eda hecha literatura.\",\n          \"Cuando, en los a\\u00f1os ochenta, el economista Ha-Joon Chang aterriz\\u00f3 por primera vez en Reino Unido desde Corea del Sur, se encontr\\u00f3 con un pa\\u00eds que comenzaba a salir de la ins\\u00edpida dieta inglesa y a experimentar con los sabores del resto del mundo. Era un trayecto inverso al que estaba recorriendo la econom\\u00eda, cada vez m\\u00e1s acomodada en una \\u00fanica escuela. Su nuevo y esperado libro, Econom\\u00eda comestible, demuestra con ejemplos claros y sabrosos que del mismo modo que es esencial abrirse a las diversas tradiciones culinarias tambi\\u00e9n lo es disponer de una amplia variedad de perspectivas econ\\u00f3micas.En este fascinante y delicioso volumen, Chang convierte en apetecibles todo tipo de ideas econ\\u00f3micas, explic\\u00e1ndolas a trav\\u00e9s de algunos ingredientes y recetas de diferentes lugares del planeta. As\\u00ed, el chocolate puede ser una dulce adicci\\u00f3n, pero aporta emocionantes ideas sobre las econom\\u00edas posindustriales del conocimiento; y mientras que la okra hace que el gumbo del sur de Estados Unidos tenga una suavidad que derrite el coraz\\u00f3n, tambi\\u00e9n remite a la enmara\\u00f1ada relaci\\u00f3n entre el capitalismo y la libertad. Desde el coste oculto del trabajo del hogar hasta el lenguaje enga\\u00f1oso del libre mercado, mientras cocina platos de todo el mundo, como el s\\u00e1ndwich favorito de Elvis, las gambas al ajillo espa\\u00f1olas y el dotorimuk coreano, este irresistible divulgador sirve un fest\\u00edn de ideas audaces f\\u00e1cil de digerir y con el que cambiar el mundo.\"\n        ],\n        \"semantic_type\": \"\",\n        \"description\": \"\"\n      }\n    },\n    {\n      \"column\": \"genero\",\n      \"properties\": {\n        \"dtype\": \"string\",\n        \"num_unique_values\": 49,\n        \"samples\": [\n          \"ciencias-exactas\",\n          \"filosofico\",\n          \"gastronomia\"\n        ],\n        \"semantic_type\": \"\",\n        \"description\": \"\"\n      }\n    }\n  ]\n}"
            }
          },
          "metadata": {},
          "execution_count": 65
        }
      ]
    },
    {
      "cell_type": "markdown",
      "source": [
        "# Recomendacion"
      ],
      "metadata": {
        "id": "3XmyRVoBD-4f"
      }
    },
    {
      "cell_type": "markdown",
      "source": [
        "## GloVe"
      ],
      "metadata": {
        "id": "dRjKV-opHAQI"
      }
    },
    {
      "cell_type": "code",
      "source": [
        "!pip install gensim"
      ],
      "metadata": {
        "colab": {
          "base_uri": "https://localhost:8080/"
        },
        "id": "3djUrkgWF6oR",
        "outputId": "ad6a219a-30ff-4b8b-8bb2-ee3361c536d5"
      },
      "execution_count": 71,
      "outputs": [
        {
          "output_type": "stream",
          "name": "stdout",
          "text": [
            "Requirement already satisfied: gensim in /usr/local/lib/python3.10/dist-packages (4.3.2)\n",
            "Requirement already satisfied: numpy>=1.18.5 in /usr/local/lib/python3.10/dist-packages (from gensim) (1.25.2)\n",
            "Requirement already satisfied: scipy>=1.7.0 in /usr/local/lib/python3.10/dist-packages (from gensim) (1.11.4)\n",
            "Requirement already satisfied: smart-open>=1.8.1 in /usr/local/lib/python3.10/dist-packages (from gensim) (6.4.0)\n"
          ]
        }
      ]
    },
    {
      "cell_type": "code",
      "source": [
        "!wget http://nlp.stanford.edu/data/glove.6B.zip\n",
        "!unzip glove.6B.zip\n"
      ],
      "metadata": {
        "colab": {
          "base_uri": "https://localhost:8080/"
        },
        "id": "YLRpksZ7F7cA",
        "outputId": "bb90b243-069b-4539-c42e-939996cfab71"
      },
      "execution_count": 72,
      "outputs": [
        {
          "output_type": "stream",
          "name": "stdout",
          "text": [
            "--2024-06-03 21:53:27--  http://nlp.stanford.edu/data/glove.6B.zip\n",
            "Resolving nlp.stanford.edu (nlp.stanford.edu)... 171.64.67.140\n",
            "Connecting to nlp.stanford.edu (nlp.stanford.edu)|171.64.67.140|:80... connected.\n",
            "HTTP request sent, awaiting response... 302 Found\n",
            "Location: https://nlp.stanford.edu/data/glove.6B.zip [following]\n",
            "--2024-06-03 21:53:28--  https://nlp.stanford.edu/data/glove.6B.zip\n",
            "Connecting to nlp.stanford.edu (nlp.stanford.edu)|171.64.67.140|:443... connected.\n",
            "HTTP request sent, awaiting response... 301 Moved Permanently\n",
            "Location: https://downloads.cs.stanford.edu/nlp/data/glove.6B.zip [following]\n",
            "--2024-06-03 21:53:28--  https://downloads.cs.stanford.edu/nlp/data/glove.6B.zip\n",
            "Resolving downloads.cs.stanford.edu (downloads.cs.stanford.edu)... 171.64.64.22\n",
            "Connecting to downloads.cs.stanford.edu (downloads.cs.stanford.edu)|171.64.64.22|:443... connected.\n",
            "HTTP request sent, awaiting response... 200 OK\n",
            "Length: 862182613 (822M) [application/zip]\n",
            "Saving to: ‘glove.6B.zip’\n",
            "\n",
            "glove.6B.zip        100%[===================>] 822.24M  5.01MB/s    in 2m 39s  \n",
            "\n",
            "2024-06-03 21:56:07 (5.18 MB/s) - ‘glove.6B.zip’ saved [862182613/862182613]\n",
            "\n",
            "Archive:  glove.6B.zip\n",
            "  inflating: glove.6B.50d.txt        \n",
            "  inflating: glove.6B.100d.txt       \n",
            "  inflating: glove.6B.200d.txt       \n",
            "  inflating: glove.6B.300d.txt       \n"
          ]
        }
      ]
    },
    {
      "cell_type": "code",
      "source": [
        "from gensim.models import KeyedVectors\n",
        "from sklearn.metrics.pairwise import cosine_similarity\n",
        "import numpy as np"
      ],
      "metadata": {
        "id": "WoL7KLd6GE3Z"
      },
      "execution_count": 73,
      "outputs": []
    },
    {
      "cell_type": "code",
      "source": [
        "from gensim.scripts.glove2word2vec import glove2word2vec\n",
        "from gensim.models import KeyedVectors\n",
        "\n",
        "# Convertir el archivo GloVe al formato Word2Vec\n",
        "glove_input_file = 'glove.6B.100d.txt'\n",
        "word2vec_output_file = 'glove.6B.100d.word2vec.txt'\n",
        "glove2word2vec(glove_input_file, word2vec_output_file)\n",
        "\n",
        "# Cargar el modelo GloVe convertido a Word2Vec\n",
        "word_vectors = KeyedVectors.load_word2vec_format(word2vec_output_file, binary=False)"
      ],
      "metadata": {
        "colab": {
          "base_uri": "https://localhost:8080/"
        },
        "id": "F9EFaW66GAmI",
        "outputId": "e5a1465f-f2b3-40f9-9258-0da5c03735a7"
      },
      "execution_count": 76,
      "outputs": [
        {
          "output_type": "stream",
          "name": "stderr",
          "text": [
            "<ipython-input-76-caa9c0a6fef5>:7: DeprecationWarning: Call to deprecated `glove2word2vec` (KeyedVectors.load_word2vec_format(.., binary=False, no_header=True) loads GLoVE text vectors.).\n",
            "  glove2word2vec(glove_input_file, word2vec_output_file)\n"
          ]
        }
      ]
    },
    {
      "cell_type": "code",
      "source": [
        "def get_embedding(sentence):\n",
        "    words = sentence.split()\n",
        "    embedding = []\n",
        "    for word in words:\n",
        "        if word in word_vectors.key_to_index:\n",
        "            embedding.append(word_vectors[word])\n",
        "    if embedding:\n",
        "        return np.mean(embedding, axis=0)\n",
        "    else:\n",
        "        return np.zeros(100)  # Si ninguna palabra tiene embedding, devolvemos un vector de ceros\n",
        "\n",
        "df['embedding'] = df['sinopsis'].apply(get_embedding)\n"
      ],
      "metadata": {
        "id": "VezlKNoYGUq8"
      },
      "execution_count": 79,
      "outputs": []
    },
    {
      "cell_type": "markdown",
      "source": [
        "### Recomendacion directa"
      ],
      "metadata": {
        "id": "DjsXaxRYIqQS"
      }
    },
    {
      "cell_type": "code",
      "source": [
        "def recomendacion_directa():\n",
        "    print(\"¿Qué tenes ganas de leer hoy?\")\n",
        "    consulta_usuario = input(\"Ingresa el género de libro: \")\n",
        "\n",
        "    # Generar el embedding para la consulta del usuario\n",
        "    consulta_embedding = get_embedding(consulta_usuario)\n",
        "\n",
        "    if np.all(consulta_embedding == 0):\n",
        "        print(\"Mmmm algo hice mal, perdon profe.\")\n",
        "        return\n",
        "\n",
        "    # Calcular la similitud de coseno entre la consulta del usuario y las sinopsis de los libros\n",
        "    similarities = df['embedding'].apply(lambda x: cosine_similarity([consulta_embedding], [x])[0][0])\n",
        "\n",
        "    # Ordenar los libros por similitud y recomendar los tres más similares\n",
        "    libros_recomendados = df.iloc[similarities.nlargest(3).index]\n",
        "\n",
        "    if libros_recomendados.empty:\n",
        "        print(\"Me parece que no tengo ese género en mi base de datos, disculpame.\")\n",
        "    else:\n",
        "        print(\"--------------------------------------\")\n",
        "        print(\"\\n¡Acá tienes algunas recomendaciones ( Igual, mejor es leer García Marquez )!\\n\")\n",
        "        print(\"--------------------------------------\")\n",
        "\n",
        "        for index, libro in libros_recomendados.iterrows():\n",
        "            print(\"Título:\", libro['Libro'])\n",
        "            print(\"Autor:\", libro['autor'])\n",
        "            print(\"Género:\", libro['genero'])\n",
        "            print(\"Sinopsis:\", libro['sinopsis'])\n",
        "            print(\"-----------------------------\")\n"
      ],
      "metadata": {
        "id": "RIzxUFVDHrvh"
      },
      "execution_count": 127,
      "outputs": []
    },
    {
      "cell_type": "markdown",
      "source": [
        "### Funcion recomendacion por autor"
      ],
      "metadata": {
        "id": "Y7sRjcB2Iv5y"
      }
    },
    {
      "cell_type": "code",
      "source": [
        "from difflib import SequenceMatcher"
      ],
      "metadata": {
        "id": "SHyKdk55JyQF"
      },
      "execution_count": 103,
      "outputs": []
    },
    {
      "cell_type": "code",
      "source": [
        "def eleccion_por_autor():\n",
        "    print(\"¿De qué autor te gustaría buscar libros?\")\n",
        "\n",
        "    # Obtener una lista única de autores disponibles en el DataFrame\n",
        "    autores_disponibles = df['autor'].unique()\n",
        "\n",
        "    if len(autores_disponibles) == 0:\n",
        "        print(\"--------------------------------------\")\n",
        "        print(\"Parece que me quede sin autores... Mejor pedile a ChatGPT que te escriba un libro!\")\n",
        "        print(\"--------------------------------------\")\n",
        "\n",
        "        return\n",
        "\n",
        "    print(\"Autores disponibles:\")\n",
        "    for idx, autor in enumerate(autores_disponibles, start=1):\n",
        "        print(f\"{idx}. {autor}\")\n",
        "\n",
        "    # Solicitar al usuario que elija un autor de la lista\n",
        "    opcion = input(\"Por favor, ingresa el número correspondiente al autor: \")\n",
        "\n",
        "    try:\n",
        "        opcion = int(opcion)\n",
        "        if opcion < 1 or opcion > len(autores_disponibles):\n",
        "            raise ValueError\n",
        "        autor_usuario = autores_disponibles[opcion - 1]\n",
        "    except (ValueError, IndexError):\n",
        "        print(\"--------------------------------------\")\n",
        "        print(\"No tengo ese autor, mil disculpas...\")\n",
        "        print(\"--------------------------------------\")\n",
        "        return\n",
        "\n",
        "    # Filtrar el DataFrame por el nombre del autor seleccionado por el usuario\n",
        "    libros_filtrados = df[df['autor'] == autor_usuario]\n",
        "\n",
        "    # Calcular la similitud de coseno entre el nombre del autor seleccionado y los nombres de autores en el DataFrame\n",
        "    similarities = df['autor'].apply(lambda x: SequenceMatcher(None, x.lower(), autor_usuario.lower()).ratio())\n",
        "\n",
        "    # Obtener los índices de los libros de los dos autores más similares\n",
        "    indices_similares = similarities.nlargest(2).index\n",
        "\n",
        "    # Seleccionar los libros de los autores más similares y agregarlos a los libros filtrados\n",
        "    libros_recomendados = pd.concat([libros_filtrados, df.loc[indices_similares]])\n",
        "\n",
        "    print(\"\\n¡Aquí tienes algunas recomendaciones para ti!\\n\")\n",
        "    for index, libro in libros_recomendados.iterrows():\n",
        "        print(\"Título:\", libro['Libro'])\n",
        "        print(\"Autor:\", libro['autor'])\n",
        "        print(\"Género:\", libro['genero'])\n",
        "        print(\"Sinopsis:\", libro['sinopsis'])\n",
        "        print(\"-----------------------------\")\n"
      ],
      "metadata": {
        "id": "w0Xwb1JBIxsa"
      },
      "execution_count": 126,
      "outputs": []
    },
    {
      "cell_type": "markdown",
      "source": [
        "### Funcion por género"
      ],
      "metadata": {
        "id": "uqh8A5qYL-jU"
      }
    },
    {
      "cell_type": "code",
      "source": [
        "def eleccion_por_genero():\n",
        "    print(\"----------------------------------\")\n",
        "    print(\"¿Qué género literario te interesa?\")\n",
        "    print(\"----------------------------------\")\n",
        "\n",
        "\n",
        "    # Obtener una lista única de géneros disponibles en el DataFrame\n",
        "    generos_disponibles = df['genero'].unique()\n",
        "\n",
        "    if len(generos_disponibles) == 0:\n",
        "        print(\"Me quedé sin ideas, perdon.\")\n",
        "        return\n",
        "\n",
        "    print(\"Géneros disponibles:\")\n",
        "    for idx, genero in enumerate(generos_disponibles, start=1):\n",
        "        print(f\"{idx}. {genero}\")\n",
        "\n",
        "    # Solicitar al usuario que elija un género de la lista\n",
        "    opcion = input(\"Por favor, ingresá el número correspondiente al género: \")\n",
        "\n",
        "    try:\n",
        "        opcion = int(opcion)\n",
        "        if opcion < 1 or opcion > len(generos_disponibles):\n",
        "            raise ValueError\n",
        "        genero_usuario = generos_disponibles[opcion - 1]\n",
        "    except (ValueError, IndexError):\n",
        "        print(\"Mmmm chequea de nuevo...\")\n",
        "        return\n",
        "\n",
        "    # Filtrar el DataFrame por el género literario seleccionado por el usuario\n",
        "    libros_filtrados = df[df['genero'] == genero_usuario]\n",
        "\n",
        "    # Calcular la similitud de coseno entre el género literario seleccionado y los géneros en el DataFrame\n",
        "    similarities = df['genero'].apply(lambda x: SequenceMatcher(None, x.lower(), genero_usuario.lower()).ratio())\n",
        "\n",
        "    # Obtener los índices de los libros de los dos géneros más similares\n",
        "    indices_similares = similarities.nlargest(2).index\n",
        "\n",
        "    # Seleccionar los libros de los géneros más similares y agregarlos a los libros filtrados\n",
        "    libros_recomendados = pd.concat([libros_filtrados, df.loc[indices_similares]])\n",
        "\n",
        "    print(\"\\n¡Aquí tienes algunas recomendaciones para ti!\\n\")\n",
        "    for index, libro in libros_recomendados.iterrows():\n",
        "        print(\"Título:\", libro['Libro'])\n",
        "        print(\"Autor:\", libro['autor'])\n",
        "        print(\"Género:\", libro['genero'])\n",
        "        print(\"Sinopsis:\", libro['sinopsis'])\n",
        "        print(\"-----------------------------\")\n"
      ],
      "metadata": {
        "id": "srAQx7UlMAlz"
      },
      "execution_count": 129,
      "outputs": []
    },
    {
      "cell_type": "markdown",
      "source": [
        "### Funcion main"
      ],
      "metadata": {
        "id": "kYEUVfzBIsTb"
      }
    },
    {
      "cell_type": "code",
      "source": [
        "def recomendar_lectura():\n",
        "    print(\"¡Bienvenido a tu Biblioteca favorita!\\nSoy el bibliotecario y estoy acá para ayudarte con lo que necesites.\")\n",
        "\n",
        "    while True:\n",
        "        print(\"\\nOpciones:\")\n",
        "        print(\"1. ¿Qué tenes ganas de leer hoy?\")\n",
        "        print(\"2. Decime un autor que te guste!\")\n",
        "        print(\"3. Elige un género!\")\n",
        "        print(\"4. Salir\")\n",
        "\n",
        "        opcion = input(\"Por favor, elegí una opción (1-4): \")\n",
        "\n",
        "        if opcion == \"1\":\n",
        "            recomendacion_directa()\n",
        "        elif opcion == \"2\":\n",
        "            eleccion_por_autor()\n",
        "\n",
        "        elif opcion == \"3\":\n",
        "            eleccion_por_genero()\n",
        "        elif opcion == \"4\":\n",
        "            print(\"Nos vemos la próxima!\")\n",
        "            break\n",
        "        else:\n",
        "            print(\"---------------------------------------------------------------------------------------------\")\n",
        "            print(\"Todavía no soy un chatbot con APIKey de OpenAI, limitate a las posibles opciones, gracias...\")\n",
        "            print(\"---------------------------------------------------------------------------------------------\")\n",
        "\n"
      ],
      "metadata": {
        "id": "yVQO-sEWD_6n"
      },
      "execution_count": 130,
      "outputs": []
    }
  ],
  "metadata": {
    "colab": {
      "gpuType": "T4",
      "provenance": [],
      "collapsed_sections": [
        "I4yn5i79ldQh",
        "z3b72JKmlfiB",
        "eVVwfUaIliaZ",
        "dkcqVXPmmncx",
        "NpuYkfvTl4Fp",
        "T7PpF_RiYWXH"
      ],
      "toc_visible": true
    },
    "kernelspec": {
      "display_name": "Python 3",
      "name": "python3"
    },
    "language_info": {
      "codemirror_mode": {
        "name": "ipython",
        "version": 3
      },
      "file_extension": ".py",
      "mimetype": "text/x-python",
      "name": "python",
      "nbconvert_exporter": "python",
      "pygments_lexer": "ipython3",
      "version": "3.11.3"
    }
  },
  "nbformat": 4,
  "nbformat_minor": 0
}