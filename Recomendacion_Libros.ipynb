{
  "cells": [
    {
      "cell_type": "markdown",
      "metadata": {
        "id": "8HmWEQ9peK_z"
      },
      "source": [
        "# Trabajo Práctico"
      ]
    },
    {
      "cell_type": "markdown",
      "metadata": {
        "id": "hS-NsIXsUXND"
      },
      "source": [
        "Se requiere la relaización de un programa que interactúe con el usuario para recomendar lecturas. El programa ofrecerá tres opciones principales:\n",
        "\n",
        "- Recomendación Directa:¿Qué tienes ganas de leer hoy? Mediante la clasificación de la respuesta el programa propondrá una lista de tres libros acordes a las temáticas mencionadas. Además deberá detallar el autor, género y una breve reseña de ese libro.\n",
        "\n",
        "- Elección por Autor: Si el usuario busca por autor, el programa ofrecerá una lista de libros del autor especificado. En caso de que haya múltiples resultados, se basará en la similitud de los dos primeros resultados más relevantes, retornando dos títulos (con sus respectivas reseñas) del resultado más ercano y uno del segundo que se recomiendan para descargar.\n",
        "\n",
        "- Elección por Género Literario: Similar a la búsqueda por autor, si el usuario elige buscar por género, el programa ofrecerá una lista de libros del género especificado. Aplicará la misma lógica de similitud para seleccionar y presentar los resultados."
      ]
    },
    {
      "cell_type": "markdown",
      "metadata": {
        "id": "o79FHYwvUXNE"
      },
      "source": [
        "<h3>Requisitos del dataset</h3>\n",
        "\n",
        "El dataset debe tener de un mínimo de 100 libros con los siguientes datos:\n",
        "-\tgénero literario (mínimo 10)\n",
        "-\tautor\n",
        "-\ttítulo\n",
        "-\tsíntesis de cada libro\n"
      ]
    },
    {
      "cell_type": "markdown",
      "metadata": {
        "id": "UpYDlhQ8G8rX"
      },
      "source": [
        "## Carga de la página"
      ]
    },
    {
      "cell_type": "code",
      "execution_count": 7,
      "metadata": {
        "id": "wY1hmaoaUXNE"
      },
      "outputs": [],
      "source": [
        "pagina = \"https://ww3.lectulandia.com/\""
      ]
    },
    {
      "cell_type": "markdown",
      "metadata": {
        "id": "I4yn5i79ldQh"
      },
      "source": [
        "## Librerias"
      ]
    },
    {
      "cell_type": "code",
      "execution_count": 8,
      "metadata": {
        "id": "_JECQOSEeKcH"
      },
      "outputs": [],
      "source": [
        "import requests\n",
        "from bs4 import BeautifulSoup"
      ]
    },
    {
      "cell_type": "markdown",
      "metadata": {
        "id": "z3b72JKmlfiB"
      },
      "source": [
        "## Página bs4"
      ]
    },
    {
      "cell_type": "markdown",
      "metadata": {
        "id": "-TlaAprOUXNG"
      },
      "source": [
        "Descubrimos que los la lista de géneros brindada por la página se encuentran en una estructura section cuyo id es \"secgenero\".\n",
        "\n",
        "Luego, dentro de esa sección, los géneros se encuentran listados mediante los elementos li."
      ]
    },
    {
      "cell_type": "markdown",
      "metadata": {
        "id": "RMnqGjlhHNBR"
      },
      "source": [
        "## Extracción de Géneros Literarios de Lectulandia\n",
        "\n",
        "El siguiente código extrae los géneros literarios del sitio web [Lectulandia](https://ww3.lectulandia.com/):\n"
      ]
    },
    {
      "cell_type": "code",
      "execution_count": 9,
      "metadata": {
        "id": "0qvUHXeIf8pp"
      },
      "outputs": [],
      "source": [
        "url = \"https://ww3.lectulandia.com/\"\n",
        "\n",
        "response = requests.get(url)\n",
        "soup = BeautifulSoup(response.text, 'html.parser')\n",
        "\n",
        "#Buscamos el elemento section y su contenido\n",
        "letra_div = soup.find('section', id='secgenero')\n",
        "\n",
        "#obtenemos el contenido, específicamente los géneros\n",
        "generos = letra_div.find_all('li')\n"
      ]
    },
    {
      "cell_type": "markdown",
      "metadata": {
        "id": "eVVwfUaIliaZ"
      },
      "source": [
        "## Enlaces a géneros"
      ]
    },
    {
      "cell_type": "markdown",
      "metadata": {
        "id": "ApC5-r3tUXNI"
      },
      "source": [
        "El siguiente proceso describe cómo extraer los géneros literarios del sitio web [Lectulandia](https://ww3.lectulandia.com/):\n",
        "\n",
        "1. **Importación**: Se utilizan las librerías `requests` para realizar solicitudes HTTP y `BeautifulSoup` para parsear el HTML.\n",
        "\n",
        "2. **Solicitud GET**: Se envía una solicitud GET al sitio web de Lectulandia para obtener su contenido HTML.\n",
        "\n",
        "3. **Parseo**: Se convierte el contenido HTML en un objeto parseable utilizando `BeautifulSoup`.\n",
        "\n",
        "4. **Búsqueda**: Se localiza la sección específica del HTML que contiene los géneros literarios buscando el elemento `<section>` con el ID `secgenero`.\n",
        "\n",
        "5. **Extracción**: Se obtienen los géneros literarios dentro del elemento `<section>` extrayendo todos los elementos `<li>`.\n",
        "\n",
        "6. **Enlaces**: Se extraen los enlaces de cada género literario buscando los elementos `<a>` dentro de los `<li>` y obteniendo sus atributos `href`, almacenándolos en una lista llamada `enlaces`.\n",
        "\n",
        "\n",
        "La lista `enlaces` contendrá todos los enlaces a los géneros literarios disponibles en el sitio web de Lectulandia.\n",
        "\n",
        "<span style=\"color:blue\">**Nota**:</span> Este proceso permite tener una recopilación de los enlaces a los distintos géneros literarios que se encuentran en Lectulandia, facilitando la navegación y el acceso a los diferentes géneros."
      ]
    },
    {
      "cell_type": "code",
      "execution_count": 10,
      "metadata": {
        "colab": {
          "base_uri": "https://localhost:8080/"
        },
        "id": "ugA5oTPjk44l",
        "outputId": "ebd13a83-a58a-47ef-85c1-51d12fd7d2f9"
      },
      "outputs": [
        {
          "data": {
            "text/plain": [
              "['/genero/arqueologia/',\n",
              " '/genero/arquitectura/',\n",
              " '/genero/arte/',\n",
              " '/genero/astrologia/',\n",
              " '/genero/astronomia/',\n",
              " '/genero/autoayuda/',\n",
              " '/genero/autobiografico/',\n",
              " '/genero/aventuras/',\n",
              " '/genero/biografia/',\n",
              " '/genero/biologia/',\n",
              " '/genero/belico/',\n",
              " '/genero/ciencia/',\n",
              " '/genero/ciencia-ficcion/',\n",
              " '/genero/ciencias-exactas/',\n",
              " '/genero/ciencias-naturales/',\n",
              " '/genero/ciencias-sociales/',\n",
              " '/genero/cine/',\n",
              " '/genero/cinematografia/',\n",
              " '/genero/clasico/',\n",
              " '/genero/comunicacion/',\n",
              " '/genero/costumbrista/',\n",
              " '/genero/critica/',\n",
              " '/genero/critica-y-teoria-literaria/',\n",
              " '/genero/cronica/',\n",
              " '/genero/cronicas/',\n",
              " '/genero/cuentos/',\n",
              " '/genero/cultura/',\n",
              " '/genero/comic/',\n",
              " '/genero/deporte/',\n",
              " '/genero/deportes/',\n",
              " '/genero/deportes-y-juegos/',\n",
              " '/genero/diccionarios-y-enciclopedias/',\n",
              " '/genero/didactico/',\n",
              " '/genero/distopia/',\n",
              " '/genero/divulgacion/',\n",
              " '/genero/divulgacion-cientifica/',\n",
              " '/genero/drama/',\n",
              " '/genero/ecologia/',\n",
              " '/genero/economia/',\n",
              " '/genero/educacion/',\n",
              " '/genero/ensayo/',\n",
              " '/genero/erotico/',\n",
              " '/genero/esoterismo/',\n",
              " '/genero/espectaculos/',\n",
              " '/genero/espionaje/',\n",
              " '/genero/espiritualidad/',\n",
              " '/genero/fantasia/',\n",
              " '/genero/fantastico/',\n",
              " '/genero/ficcion/',\n",
              " '/genero/filosofia/',\n",
              " '/genero/filosofico/',\n",
              " '/genero/fisica/',\n",
              " '/genero/gastronomia/',\n",
              " '/genero/geografia/',\n",
              " '/genero/guion/',\n",
              " '/genero/historia/',\n",
              " '/genero/historico/',\n",
              " '/genero/hogar/',\n",
              " '/genero/humor/',\n",
              " '/genero/idiomas/',\n",
              " '/genero/infantil/',\n",
              " '/genero/infantil-y-juvenil/',\n",
              " '/genero/informatica/',\n",
              " '/genero/interactivo/',\n",
              " '/genero/intriga/',\n",
              " '/genero/juvenil/',\n",
              " '/genero/magia/',\n",
              " '/genero/manuales-y-cursos/',\n",
              " '/genero/matematicas/',\n",
              " '/genero/medicina/',\n",
              " '/genero/medieval/',\n",
              " '/genero/memorias/',\n",
              " '/genero/misterio/',\n",
              " '/genero/mitos/',\n",
              " '/genero/musica/',\n",
              " '/genero/nazis/',\n",
              " '/genero/negocios/',\n",
              " '/genero/no-ficcion/',\n",
              " '/genero/novela/',\n",
              " '/genero/novela-negra/',\n",
              " '/genero/novela-del-oeste/',\n",
              " '/genero/obras-completas/',\n",
              " '/genero/otros/',\n",
              " '/genero/padres-e-hijos/',\n",
              " '/genero/periodismo/',\n",
              " '/genero/pintura/',\n",
              " '/genero/poesia/',\n",
              " '/genero/policial/',\n",
              " '/genero/policiaco/',\n",
              " '/genero/politica/',\n",
              " '/genero/psicologia/',\n",
              " '/genero/psicologico/',\n",
              " '/genero/publicaciones-periodicas/',\n",
              " '/genero/quimica/',\n",
              " '/genero/realista/',\n",
              " '/genero/recetas-de-cocina/',\n",
              " '/genero/recopilacion/',\n",
              " '/genero/referencia/',\n",
              " '/genero/relato/',\n",
              " '/genero/religion/',\n",
              " '/genero/romantico/',\n",
              " '/genero/salud-y-bienestar/',\n",
              " '/genero/sexualidad/',\n",
              " '/genero/sociologia/',\n",
              " '/genero/satira/',\n",
              " '/genero/teatro/',\n",
              " '/genero/tecnologia/',\n",
              " '/genero/terror/',\n",
              " '/genero/terrorismo/',\n",
              " '/genero/thriller/',\n",
              " '/genero/ucronia/',\n",
              " '/genero/viajes/']"
            ]
          },
          "execution_count": 10,
          "metadata": {},
          "output_type": "execute_result"
        }
      ],
      "source": [
        "enlaces = []\n",
        "\n",
        "for genero in generos:\n",
        "  enlace = genero.find('a')\n",
        "  if enlace:\n",
        "    href=enlace.get('href')\n",
        "    enlaces.append(href)\n",
        "\n",
        "enlaces"
      ]
    },
    {
      "cell_type": "markdown",
      "metadata": {
        "id": "1d_VWzc3mOSj"
      },
      "source": [
        "## Sacamos tildes"
      ]
    },
    {
      "cell_type": "markdown",
      "metadata": {
        "id": "U08kLD6HH1ym"
      },
      "source": [
        "El siguiente proceso describe cómo eliminar los acentos de una lista de enlaces utilizando Python:\n",
        "\n",
        "1. **Importación**: Se utiliza la librería `unicodedata` para manejar la normalización de caracteres Unicode.\n",
        "\n",
        "2. **Función `remove_accents`**:\n",
        "   - **Propósito**: Elimina los acentos de una cadena de texto.\n",
        "   - **Proceso**:\n",
        "     - **Normalización**: Convierte la cadena de texto a su forma normalizada NFKD.\n",
        "     - **Eliminación de Acentos**: Recorre la cadena y elimina los caracteres diacríticos (acentos).\n",
        "\n",
        "3. **Uso de la Función**:\n",
        "   - Se aplica la función `remove_accents` a cada enlace en la lista `enlaces` para eliminar los acentos.\n",
        "\n",
        "\n",
        "La lista `enlaces` contendrá los enlaces originales pero con los acentos eliminados, facilitando su manejo y procesamiento posterior.\n",
        "\n",
        "<span style=\"color:blue\">**Nota**:</span> Este proceso es útil para normalizar textos y evitar problemas con caracteres especiales en enlaces o cualquier otro tipo de cadena de texto.\n"
      ]
    },
    {
      "cell_type": "code",
      "execution_count": 11,
      "metadata": {
        "colab": {
          "base_uri": "https://localhost:8080/"
        },
        "id": "YBGIEiTomR1w",
        "outputId": "74ad0e40-2f55-4c48-82ec-cf2f88463705"
      },
      "outputs": [
        {
          "name": "stdout",
          "output_type": "stream",
          "text": [
            "Requirement already satisfied: unicodedata2 in c:\\users\\mateo\\appdata\\local\\programs\\python\\python311\\lib\\site-packages (15.1.0)\n"
          ]
        }
      ],
      "source": [
        "!pip install unicodedata2"
      ]
    },
    {
      "cell_type": "code",
      "execution_count": 12,
      "metadata": {
        "id": "LATc1ghQmQTQ"
      },
      "outputs": [],
      "source": [
        "import unicodedata\n",
        "\n",
        "def remove_accents(input_str):\n",
        "    nfkd_form = unicodedata.normalize('NFKD', input_str)\n",
        "    return ''.join([c for c in nfkd_form if not unicodedata.combining(c)])\n",
        "\n",
        "# Uso\n",
        "for e in enlaces:\n",
        "  remove_accents(e)\n",
        "\n",
        "#enlaces"
      ]
    },
    {
      "cell_type": "markdown",
      "metadata": {
        "id": "dkcqVXPmmncx"
      },
      "source": [
        "## Reemplazo de espacios por '-'"
      ]
    },
    {
      "cell_type": "markdown",
      "metadata": {
        "id": "wYGx7uyInHMK"
      },
      "source": [
        "El siguiente proceso describe cómo reemplazar los espacios en una lista de enlaces utilizando Python:\n",
        "\n",
        "1. **Reemplazo de Espacios**:\n",
        "   - Se recorre cada enlace en la lista `enlaces` y se reemplazan los espacios (`\" \"`) por guiones (`\"-\"`).\n",
        "\n",
        "Resultado\n",
        "\n",
        "La lista `enlaces` contendrá los enlaces originales pero con los espacios reemplazados por guiones, facilitando su uso en URLs y evitando problemas de codificación de espacios.\n",
        "\n",
        "<span style=\"color:blue\">**Nota**:</span> Este proceso es útil para normalizar enlaces y hacerlos más adecuados para su uso en la web, donde los espacios pueden causar problemas de formato."
      ]
    },
    {
      "cell_type": "code",
      "execution_count": 13,
      "metadata": {
        "id": "nfMOBWgGmq_R"
      },
      "outputs": [],
      "source": [
        "for e in enlaces:\n",
        "  e.replace(\" \", \"-\")\n",
        "\n",
        "#enlaces"
      ]
    },
    {
      "cell_type": "markdown",
      "metadata": {
        "id": "NpuYkfvTl4Fp"
      },
      "source": [
        "## Funcion para extraer libros de los géneros"
      ]
    },
    {
      "cell_type": "markdown",
      "metadata": {
        "id": "KNeG0grQna3a"
      },
      "source": [
        "El siguiente proceso describe cómo extraer información de libros desde una lista de enlaces utilizando Python:\n",
        "\n",
        "1. **Definición de la Función `libro`**:\n",
        "   - **Propósito**: Crear un diccionario con títulos de libros y sus correspondientes URLs y géneros.\n",
        "   - **Parámetros**:\n",
        "     - `url`: La URL base del sitio web.\n",
        "     - `enlace`: La lista de enlaces a los géneros literarios.\n",
        "\n",
        "2. **Proceso Dentro de la Función**:\n",
        "   - **Inicialización**: Se crea un diccionario vacío `diccionario`.\n",
        "   - **Iteración**: Se recorren los primeros 56 enlaces en la lista `enlace`.\n",
        "     - **Solicitud GET**: Se envía una solicitud GET combinando la URL base y el enlace del género.\n",
        "     - **Parseo del HTML**: Se convierte el contenido HTML en un objeto parseable usando `BeautifulSoup`.\n",
        "     - **Extracción del Título**: Se busca el primer elemento `<a>` con la clase `title` y se extrae su texto y URL (`href`).\n",
        "     - **Actualización del Diccionario**: Se agrega una nueva entrada al diccionario con el título del libro como clave, y un subdiccionario con la URL y el género como valor.\n",
        "\n",
        "3. **Retorno del Diccionario**:\n",
        "   - La función retorna el diccionario `diccionario` que contiene la información de los libros.\n",
        "\n",
        "Resultado\n",
        "\n",
        "La variable `dic` contendrá un diccionario con títulos de libros, sus URLs y géneros correspondientes.\n",
        "\n",
        "<span style=\"color:blue\">**Nota**:</span> Este proceso permite recopilar información estructurada de libros desde un sitio web, facilitando su análisis y procesamiento posterior."
      ]
    },
    {
      "cell_type": "code",
      "execution_count": 14,
      "metadata": {
        "id": "HWfa9bYno8I5"
      },
      "outputs": [],
      "source": [
        "def libro(url,enlace):\n",
        "    diccionario = {}\n",
        "    for gen in enlace[:56]:\n",
        "        respuesta = requests.get(url+gen)\n",
        "        titulo = BeautifulSoup(respuesta.text, 'html.parser').find('a', class_ = 'title')\n",
        "        href = titulo.get('href')\n",
        "        diccionario[titulo.text] = {'url': href,\n",
        "                                    'genero': gen}\n",
        "    return diccionario\n"
      ]
    },
    {
      "cell_type": "code",
      "execution_count": 15,
      "metadata": {
        "id": "oOrhkYv_rNHZ"
      },
      "outputs": [],
      "source": [
        "dic = libro(\"https://ww3.lectulandia.com/\", enlaces)"
      ]
    },
    {
      "cell_type": "markdown",
      "metadata": {
        "id": "T7PpF_RiYWXH"
      },
      "source": [
        "# Funcion extraer autor y sinopsis\n"
      ]
    },
    {
      "cell_type": "markdown",
      "metadata": {
        "id": "cv0vAVgAI863"
      },
      "source": [
        "Pasos\n",
        "\n",
        "1. **Iteración sobre los Títulos**:\n",
        "   - La función itera sobre los títulos del diccionario proporcionado.\n",
        "\n",
        "2. **Construcción de la URL**:\n",
        "   - Para cada título, se construye la URL completa del libro utilizando la URL base y la URL específica del libro obtenida del diccionario.\n",
        "\n",
        "3. **Extracción de Autor y Sinopsis**:\n",
        "   - Se realiza una solicitud GET a la URL del libro y se parsea el contenido HTML.\n",
        "   - Se extraen el autor y la sinopsis del libro utilizando etiquetas específicas del HTML.\n",
        "\n",
        "4. **Extracción de Género**:\n",
        "   - El género se obtiene directamente del diccionario proporcionado.\n",
        "\n",
        "5. **Construcción del Nuevo Diccionario**:\n",
        "   - Se construye un nuevo diccionario donde las claves son los títulos de los libros y los valores son diccionarios con las llaves 'autor', 'sinopsis' y 'genero'\n",
        "   \n",
        "   \n",
        "Resultado\n",
        "\n",
        "El diccionario resultante, `dicAutor`, contendrá la información de autor, sinopsis y género para cada libro, listo para ser utilizado en análisis posteriores o en la creación de un dataset.\n",
        "\n",
        "<span style=\"color:blue\">**Nota**:</span> Este proceso facilita la extracción y organización de información de libros de una base de datos en línea para su posterior análisis o uso."
      ]
    },
    {
      "cell_type": "code",
      "execution_count": 16,
      "metadata": {
        "id": "LS8wOZfzfBEC"
      },
      "outputs": [],
      "source": [
        "def autor_sinopsis(base_url, dic):\n",
        "    dicAutor = {}\n",
        "    titulos = dic.keys()\n",
        "    for titulo in titulos:\n",
        "        # Construir URL completa del libro\n",
        "        libro_url = base_url + dic[titulo]['url']\n",
        "        respuesta = requests.get(libro_url)\n",
        "        soup = BeautifulSoup(respuesta.text, 'html.parser')\n",
        "\n",
        "        # Extraer autor y sinopsis\n",
        "        autor = soup.find('div', id='autor').find('a', class_='dinSource').text.strip()\n",
        "        sinopsis = soup.find('div', id='sinopsis').text.strip()\n",
        "\n",
        "        # Extraer género directamente del diccionario\n",
        "        genero = dic[titulo]['genero'].strip()\n",
        "\n",
        "        dicAutor[titulo.strip()] = {\n",
        "            'autor': autor,\n",
        "            'sinopsis': sinopsis,\n",
        "            'genero': genero\n",
        "        }\n",
        "\n",
        "    return dicAutor\n"
      ]
    },
    {
      "cell_type": "code",
      "execution_count": 17,
      "metadata": {
        "colab": {
          "base_uri": "https://localhost:8080/"
        },
        "id": "uM5TFHrneWd6",
        "outputId": "e1ecbc28-5b36-4dc6-d4de-e32d36614d85"
      },
      "outputs": [],
      "source": [
        "dicAutor = autor_sinopsis(pagina ,dic)\n",
        "#dicAutor"
      ]
    },
    {
      "cell_type": "markdown",
      "metadata": {
        "id": "Wd_l7RapAV_k"
      },
      "source": [
        "# DataFrame\n"
      ]
    },
    {
      "cell_type": "markdown",
      "metadata": {
        "id": "x2f7QtJgJDGJ"
      },
      "source": [
        "A continuación se crea un dataframe para utilizar posteriormente en la recomendacion de los libros.\n",
        "\n",
        "1. **Importación**: Se utiliza la librería `pandas` para la creación del df.\n",
        "\n",
        "2. **Creación del dataframe**:\n",
        "   - **Propósito**: Unificar los datos en un solo dataframe\n",
        "   - **Proceso**:\n",
        "     - Cargamos el diccionario y lo convertimos en dataframe.\n",
        "     - Renombramos una columna y mejoramos los valores de `genero`"
      ]
    },
    {
      "cell_type": "code",
      "execution_count": 18,
      "metadata": {
        "id": "2QjBqqvpAahd"
      },
      "outputs": [],
      "source": [
        "import pandas as pd"
      ]
    },
    {
      "cell_type": "code",
      "execution_count": 19,
      "metadata": {
        "id": "SsFn8OcWAXQj"
      },
      "outputs": [],
      "source": [
        "# Convertir el diccionario en un DataFrame y añadir la columna \"Libro\"\n",
        "df = pd.DataFrame.from_dict(dicAutor, orient='index').reset_index()\n",
        "df = df.rename(columns={'index': 'Libro'})"
      ]
    },
    {
      "cell_type": "code",
      "execution_count": 20,
      "metadata": {
        "id": "R8W7CrMdCRIt"
      },
      "outputs": [],
      "source": [
        "df['genero'] = df['genero'].str.replace('/genero/', '')\n",
        "df['genero'] = df['genero'].str.replace('/', '')"
      ]
    },
    {
      "cell_type": "code",
      "execution_count": 21,
      "metadata": {
        "colab": {
          "base_uri": "https://localhost:8080/",
          "height": 206
        },
        "id": "Aso8SqMWAccs",
        "outputId": "2d5dfd94-e6f6-43bd-fc82-5b8de8da2f08"
      },
      "outputs": [
        {
          "data": {
            "text/html": [
              "<div>\n",
              "<style scoped>\n",
              "    .dataframe tbody tr th:only-of-type {\n",
              "        vertical-align: middle;\n",
              "    }\n",
              "\n",
              "    .dataframe tbody tr th {\n",
              "        vertical-align: top;\n",
              "    }\n",
              "\n",
              "    .dataframe thead th {\n",
              "        text-align: right;\n",
              "    }\n",
              "</style>\n",
              "<table border=\"1\" class=\"dataframe\">\n",
              "  <thead>\n",
              "    <tr style=\"text-align: right;\">\n",
              "      <th></th>\n",
              "      <th>Libro</th>\n",
              "      <th>autor</th>\n",
              "      <th>sinopsis</th>\n",
              "      <th>genero</th>\n",
              "    </tr>\n",
              "  </thead>\n",
              "  <tbody>\n",
              "    <tr>\n",
              "      <th>0</th>\n",
              "      <td>El mundo de la arqueología</td>\n",
              "      <td>C. W. Ceram</td>\n",
              "      <td>Las maravillas de la tumba de Tutankamen, la T...</td>\n",
              "      <td>arqueologia</td>\n",
              "    </tr>\n",
              "    <tr>\n",
              "      <th>1</th>\n",
              "      <td>La ciudad invisible</td>\n",
              "      <td>Kurt Kohlstedt</td>\n",
              "      <td>La ciudad invisible nos invita a explorar de m...</td>\n",
              "      <td>arquitectura</td>\n",
              "    </tr>\n",
              "    <tr>\n",
              "      <th>2</th>\n",
              "      <td>La invención del cuerpo: arte y erotismo en el...</td>\n",
              "      <td>Carmen Sánchez Fernández</td>\n",
              "      <td>En el mundo clásico, el pensamiento religioso,...</td>\n",
              "      <td>arte</td>\n",
              "    </tr>\n",
              "    <tr>\n",
              "      <th>3</th>\n",
              "      <td>Picatrix</td>\n",
              "      <td>Maslama Ibn Ahmad Al-Mayriti</td>\n",
              "      <td>El Picatrix es un antiguo grimorio árabe de as...</td>\n",
              "      <td>astrologia</td>\n",
              "    </tr>\n",
              "    <tr>\n",
              "      <th>4</th>\n",
              "      <td>En busca de Venus</td>\n",
              "      <td>Andrea Wulf</td>\n",
              "      <td>El emocionante relato de la primera colaboraci...</td>\n",
              "      <td>astronomia</td>\n",
              "    </tr>\n",
              "  </tbody>\n",
              "</table>\n",
              "</div>"
            ],
            "text/plain": [
              "                                               Libro   \n",
              "0                         El mundo de la arqueología  \\\n",
              "1                                La ciudad invisible   \n",
              "2  La invención del cuerpo: arte y erotismo en el...   \n",
              "3                                           Picatrix   \n",
              "4                                  En busca de Venus   \n",
              "\n",
              "                          autor   \n",
              "0                   C. W. Ceram  \\\n",
              "1                Kurt Kohlstedt   \n",
              "2      Carmen Sánchez Fernández   \n",
              "3  Maslama Ibn Ahmad Al-Mayriti   \n",
              "4                   Andrea Wulf   \n",
              "\n",
              "                                            sinopsis        genero  \n",
              "0  Las maravillas de la tumba de Tutankamen, la T...   arqueologia  \n",
              "1  La ciudad invisible nos invita a explorar de m...  arquitectura  \n",
              "2  En el mundo clásico, el pensamiento religioso,...          arte  \n",
              "3  El Picatrix es un antiguo grimorio árabe de as...    astrologia  \n",
              "4  El emocionante relato de la primera colaboraci...    astronomia  "
            ]
          },
          "execution_count": 21,
          "metadata": {},
          "output_type": "execute_result"
        }
      ],
      "source": [
        "df.head()"
      ]
    },
    {
      "cell_type": "markdown",
      "metadata": {
        "id": "3XmyRVoBD-4f"
      },
      "source": [
        "# Recomendacion"
      ]
    },
    {
      "cell_type": "markdown",
      "metadata": {
        "id": "dRjKV-opHAQI"
      },
      "source": [
        "## GloVe"
      ]
    },
    {
      "cell_type": "markdown",
      "metadata": {
        "id": "AOZMSO41KH6P"
      },
      "source": [
        "Generación de Embeddings para Sinopsis de Libros\n",
        "\n",
        "El siguiente proceso describe cómo generar embeddings para las sinopsis de libros utilizando GloVe pre-entrenado:\n",
        "\n",
        "1. **Instalación y Descarga de Recursos**:\n",
        "   - Se instala la librería Gensim (`!pip install gensim`).\n",
        "   - Se descarga el archivo GloVe pre-entrenado desde [este enlace](http://nlp.stanford.edu/data/glove.6B.zip) utilizando `wget`.\n",
        "   - Se descomprime el archivo GloVe descargado.\n",
        "\n",
        "2. **Importación de Librerías**:\n",
        "   - Se importan las librerías necesarias, incluyendo `KeyedVectors` de Gensim y `cosine_similarity` de `sklearn.metrics.pairwise`.\n",
        "\n",
        "3. **Convertir GloVe a Word2Vec**:\n",
        "   - Se convierte el archivo GloVe al formato Word2Vec utilizando la función `glove2word2vec` de Gensim.\n",
        "\n",
        "4. **Cargar GloVe como Word2Vec**:\n",
        "   - Se carga el archivo GloVe convertido como formato Word2Vec utilizando `KeyedVectors.load_word2vec_format`.\n",
        "\n",
        "5. **Función para Obtener Embeddings**:\n",
        "   - Se define la función `get_embedding(sentence)` que genera embeddings para una oración/sinopsis dada.\n",
        "   - La función divide la sinopsis en palabras, busca el embedding de cada palabra en el modelo cargado, y calcula el promedio de los embeddings de las palabras presentes en la sinopsis.\n",
        "   - Si ninguna palabra tiene un embedding, se devuelve un vector de ceros.\n",
        "\n",
        "6. **Aplicación de la Función**:\n",
        "   - Se aplica la función `get_embedding` a cada sinopsis en el DataFrame `df`.\n",
        "   - Los embeddings resultantes se almacenan en una nueva columna llamada `embedding`.\n",
        "\n",
        "Resultado\n",
        "\n",
        "La columna `embedding` del DataFrame `df` contendrá los embeddings generados para cada sinopsis de libro, lo que facilita el análisis y la comparación de similitudes entre las sinopsis.\n",
        "\n",
        "<span style=\"color:blue\">**Nota**:</span> Este proceso utiliza embeddings pre-entrenados para convertir las sinopsis de libros en representaciones numéricas que pueden ser utilizadas en tareas de análisis de texto y minería de datos.\n"
      ]
    },
    {
      "cell_type": "markdown",
      "metadata": {
        "id": "y3DcQryrLr9w"
      },
      "source": [
        "***Omitir estas proximas dos celdas si se tienen los archivos (Vienen en github)***"
      ]
    },
    {
      "cell_type": "code",
      "execution_count": 17,
      "metadata": {
        "colab": {
          "base_uri": "https://localhost:8080/"
        },
        "id": "3djUrkgWF6oR",
        "outputId": "5ac1caa4-65da-4c5f-a7f1-d107245af6e0"
      },
      "outputs": [
        {
          "name": "stdout",
          "output_type": "stream",
          "text": [
            "Requirement already satisfied: gensim in /usr/local/lib/python3.10/dist-packages (4.3.2)\n",
            "Requirement already satisfied: numpy>=1.18.5 in /usr/local/lib/python3.10/dist-packages (from gensim) (1.25.2)\n",
            "Requirement already satisfied: scipy>=1.7.0 in /usr/local/lib/python3.10/dist-packages (from gensim) (1.11.4)\n",
            "Requirement already satisfied: smart-open>=1.8.1 in /usr/local/lib/python3.10/dist-packages (from gensim) (6.4.0)\n"
          ]
        }
      ],
      "source": [
        "!pip install gensim"
      ]
    },
    {
      "cell_type": "code",
      "execution_count": 18,
      "metadata": {
        "colab": {
          "base_uri": "https://localhost:8080/"
        },
        "id": "YLRpksZ7F7cA",
        "outputId": "c029d8b9-e943-4be8-e7c2-eeaffd5baf6e"
      },
      "outputs": [
        {
          "name": "stdout",
          "output_type": "stream",
          "text": [
            "--2024-06-04 21:06:13--  http://nlp.stanford.edu/data/glove.6B.zip\n",
            "Resolving nlp.stanford.edu (nlp.stanford.edu)... 171.64.67.140\n",
            "Connecting to nlp.stanford.edu (nlp.stanford.edu)|171.64.67.140|:80... connected.\n",
            "HTTP request sent, awaiting response... 302 Found\n",
            "Location: https://nlp.stanford.edu/data/glove.6B.zip [following]\n",
            "--2024-06-04 21:06:13--  https://nlp.stanford.edu/data/glove.6B.zip\n",
            "Connecting to nlp.stanford.edu (nlp.stanford.edu)|171.64.67.140|:443... connected.\n",
            "HTTP request sent, awaiting response... 301 Moved Permanently\n",
            "Location: https://downloads.cs.stanford.edu/nlp/data/glove.6B.zip [following]\n",
            "--2024-06-04 21:06:14--  https://downloads.cs.stanford.edu/nlp/data/glove.6B.zip\n",
            "Resolving downloads.cs.stanford.edu (downloads.cs.stanford.edu)... 171.64.64.22\n",
            "Connecting to downloads.cs.stanford.edu (downloads.cs.stanford.edu)|171.64.64.22|:443... connected.\n",
            "HTTP request sent, awaiting response... 200 OK\n",
            "Length: 862182613 (822M) [application/zip]\n",
            "Saving to: ‘glove.6B.zip’\n",
            "\n",
            "glove.6B.zip        100%[===================>] 822.24M  5.02MB/s    in 2m 39s  \n",
            "\n",
            "2024-06-04 21:08:53 (5.16 MB/s) - ‘glove.6B.zip’ saved [862182613/862182613]\n",
            "\n",
            "Archive:  glove.6B.zip\n",
            "  inflating: glove.6B.50d.txt        \n",
            "  inflating: glove.6B.100d.txt       \n",
            "  inflating: glove.6B.200d.txt       \n",
            "  inflating: glove.6B.300d.txt       \n"
          ]
        }
      ],
      "source": [
        "!wget http://nlp.stanford.edu/data/glove.6B.zip\n",
        "\n"
      ]
    },
    {
      "cell_type": "markdown",
      "metadata": {},
      "source": [
        "***Segui desde aca***"
      ]
    },
    {
      "cell_type": "code",
      "execution_count": 22,
      "metadata": {
        "id": "_tVOcS6XLrKP"
      },
      "outputs": [
        {
          "name": "stderr",
          "output_type": "stream",
          "text": [
            "\"unzip\" no se reconoce como un comando interno o externo,\n",
            "programa o archivo por lotes ejecutable.\n"
          ]
        }
      ],
      "source": [
        "!unzip glove.6B.zip"
      ]
    },
    {
      "cell_type": "code",
      "execution_count": 23,
      "metadata": {
        "id": "WoL7KLd6GE3Z"
      },
      "outputs": [],
      "source": [
        "from gensim.models import KeyedVectors\n",
        "from sklearn.metrics.pairwise import cosine_similarity\n",
        "import numpy as np"
      ]
    },
    {
      "cell_type": "code",
      "execution_count": 24,
      "metadata": {
        "colab": {
          "base_uri": "https://localhost:8080/"
        },
        "id": "F9EFaW66GAmI",
        "outputId": "1fb83d84-faa9-4e1d-df8c-b2b3d3daa90c"
      },
      "outputs": [
        {
          "name": "stderr",
          "output_type": "stream",
          "text": [
            "C:\\Users\\mateo\\AppData\\Local\\Temp\\ipykernel_8940\\2258600143.py:7: DeprecationWarning: Call to deprecated `glove2word2vec` (KeyedVectors.load_word2vec_format(.., binary=False, no_header=True) loads GLoVE text vectors.).\n",
            "  glove2word2vec(glove_input_file, word2vec_output_file)\n"
          ]
        }
      ],
      "source": [
        "from gensim.scripts.glove2word2vec import glove2word2vec\n",
        "from gensim.models import KeyedVectors\n",
        "\n",
        "# Convertir el archivo GloVe al formato Word2Vec\n",
        "glove_input_file = 'glove.6B.100d.txt'\n",
        "word2vec_output_file = 'glove.6B.100d.word2vec.txt'\n",
        "glove2word2vec(glove_input_file, word2vec_output_file)\n",
        "\n",
        "# Cargar el archivo GloVe directamente como formato Word2Vec\n",
        "glove_input_file = 'glove.6B.100d.txt'\n",
        "word_vectors = KeyedVectors.load_word2vec_format(glove_input_file, binary=False, no_header=True)"
      ]
    },
    {
      "cell_type": "code",
      "execution_count": 25,
      "metadata": {
        "id": "VezlKNoYGUq8"
      },
      "outputs": [],
      "source": [
        "def get_embedding(sentence):\n",
        "    words = sentence.split()\n",
        "    embedding = []\n",
        "    for word in words:\n",
        "        if word in word_vectors.key_to_index:\n",
        "            embedding.append(word_vectors[word])\n",
        "    if embedding:\n",
        "        return np.mean(embedding, axis=0)\n",
        "    else:\n",
        "        return np.zeros(100)  # Si ninguna palabra tiene embedding, devolvemos un vector de ceros\n",
        "\n",
        "df['embedding'] = df['sinopsis'].apply(get_embedding)\n"
      ]
    },
    {
      "cell_type": "markdown",
      "metadata": {},
      "source": [
        "# Correr en entorno local"
      ]
    },
    {
      "cell_type": "markdown",
      "metadata": {
        "id": "DjsXaxRYIqQS"
      },
      "source": [
        "### Recomendacion directa"
      ]
    },
    {
      "cell_type": "markdown",
      "metadata": {
        "id": "uWY4pbEYKTLv"
      },
      "source": [
        "Función de Recomendación Directa de Libros\n",
        "\n",
        "La siguiente función, `recomendacion_directa`, permite recomendar libros basados en el género literario ingresado por el usuario:\n",
        "\n",
        "Descripción\n",
        "\n",
        "1. **Interacción con el Usuario**:\n",
        "   - La función solicita al usuario que ingrese el género de libro que desea leer.\n",
        "\n",
        "2. **Generación de Embedding**:\n",
        "   - Se genera un embedding para la consulta del usuario utilizando una función llamada `get_embedding`.\n",
        "\n",
        "3. **Cálculo de Similitud**:\n",
        "   - Se calcula la similitud de coseno entre la consulta del usuario y las sinopsis de los libros en una base de datos (`df`).\n",
        "\n",
        "4. **Recomendación de Libros**:\n",
        "   - Se ordenan los libros por similitud y se recomiendan los tres más similares.\n",
        "\n",
        "5. **Resultados**:\n",
        "   - Se muestra al usuario las recomendaciones de libros, incluyendo título, autor, género y sinopsis de cada libro.\n",
        "\n",
        "Resultado\n",
        "\n",
        "La función `recomendacion_directa` proporciona al usuario recomendaciones de libros basadas en el género literario ingresado.\n",
        "\n",
        "<span style=\"color:blue\">**Nota**:</span> Es importante destacar que esta función es una herramienta útil para recomendar libros de manera directa, permitiendo al usuario explorar opciones dentro de su género literario preferido.\n"
      ]
    },
    {
      "cell_type": "code",
      "execution_count": 33,
      "metadata": {},
      "outputs": [],
      "source": [
        "import tkinter as tk\n",
        "from tkinter import simpledialog, messagebox\n",
        "import pandas as pd\n",
        "import numpy as np\n",
        "from sklearn.metrics.pairwise import cosine_similarity\n",
        "from difflib import SequenceMatcher"
      ]
    },
    {
      "cell_type": "code",
      "execution_count": 34,
      "metadata": {
        "id": "RIzxUFVDHrvh"
      },
      "outputs": [],
      "source": [
        "def recomendacion_directa():\n",
        "    consulta_usuario = simpledialog.askstring(\"¿Qué tenes ganas de leer hoy?\", \"Ingresa una breve frase de lo que te gustaría leer hoy:\")\n",
        "\n",
        "    if consulta_usuario is None:\n",
        "        return\n",
        "\n",
        "    consulta_embedding = get_embedding(consulta_usuario)\n",
        "\n",
        "    if np.all(consulta_embedding == 0):\n",
        "        messagebox.showerror(\"Error\", \"Mmmm algo hice mal, perdon profe.\")\n",
        "        return\n",
        "\n",
        "    similarities = df['embedding'].apply(lambda x: cosine_similarity([consulta_embedding], [x])[0][0])\n",
        "\n",
        "    libros_recomendados = df.iloc[similarities.nlargest(3).index]\n",
        "\n",
        "    if libros_recomendados.empty:\n",
        "        messagebox.showinfo(\"Sin resultados\", \"Me parece que no tengo ese género en mi base de datos, disculpame.\")\n",
        "    else:\n",
        "        resultado = \"\\n¡Acá tienes algunas recomendaciones ( Igual, mejor es leer García Marquez )!\\n\"\n",
        "        for index, libro in libros_recomendados.iterrows():\n",
        "            resultado += f\"\\nTítulo: {libro['Libro']}\\nAutor: {libro['autor']}\\nGénero: {libro['genero']}\\nSinopsis: {libro['sinopsis']}\\n-----------------------------\\n\"\n",
        "        messagebox.showinfo(\"Recomendaciones\", resultado)"
      ]
    },
    {
      "cell_type": "markdown",
      "metadata": {
        "id": "Y7sRjcB2Iv5y"
      },
      "source": [
        "## Funcion recomendacion por autor"
      ]
    },
    {
      "cell_type": "markdown",
      "metadata": {
        "id": "p8dbQJBiKfcW"
      },
      "source": [
        "La siguiente función, `eleccion_por_autor`, permite recomendar libros basados en el autor literario seleccionado por el usuario:\n",
        "\n",
        "Descripción\n",
        "\n",
        "1. **Interacción con el Usuario**:\n",
        "   - La función solicita al usuario que ingrese el nombre del autor cuyo libro desea leer.\n",
        "\n",
        "2. **Filtrado por Autor**:\n",
        "   - Se obtiene una lista única de autores disponibles en la base de datos (`df`).\n",
        "   - Se verifica si el autor ingresado está en la lista de autores disponibles.\n",
        "\n",
        "3. **Cálculo de Similitud**:\n",
        "   - Se calcula la similitud entre el nombre del autor ingresado y los autores en la base de datos utilizando `SequenceMatcher`.\n",
        "\n",
        "4. **Recomendación de Libros**:\n",
        "   - Se filtran los libros por el autor seleccionado.\n",
        "   - Se seleccionan los libros de los autores más similares y se agregan a los libros filtrados.\n",
        "\n",
        "5. **Resultados**:\n",
        "   - Se muestra al usuario las recomendaciones de libros, incluyendo título, autor, género y sinopsis de cada libro.\n",
        "\n",
        "Resultado\n",
        "\n",
        "La función `eleccion_por_autor` proporciona al usuario recomendaciones de libros basadas en el autor literario ingresado.\n",
        "\n",
        "<span style=\"color:blue\">**Nota**:</span> Esta función es ideal para usuarios que desean explorar más obras de un autor específico o descubrir autores similares."
      ]
    },
    {
      "cell_type": "code",
      "execution_count": 35,
      "metadata": {
        "id": "w0Xwb1JBIxsa"
      },
      "outputs": [],
      "source": [
        "def eleccion_por_autor():\n",
        "    autores_disponibles = df['autor'].unique()\n",
        "\n",
        "    if len(autores_disponibles) == 0:\n",
        "        messagebox.showinfo(\"Sin autores\", \"Parece que me quede sin autores... Mejor pedile a ChatGPT que te escriba un libro!\")\n",
        "        return\n",
        "\n",
        "    autor_usuario = simpledialog.askstring(\"¿De qué autor te gustaría buscar libros?\", \"Autores disponibles:\\n\" + \"\\n\".join(autores_disponibles))\n",
        "\n",
        "    if autor_usuario is None:\n",
        "        return\n",
        "\n",
        "    if autor_usuario not in autores_disponibles:\n",
        "        messagebox.showerror(\"Error\", \"No tengo ese autor, mil disculpas...\")\n",
        "        return\n",
        "\n",
        "    libros_filtrados = df[df['autor'] == autor_usuario]\n",
        "\n",
        "    similarities = df['autor'].apply(lambda x: SequenceMatcher(None, x.lower(), autor_usuario.lower()).ratio())\n",
        "\n",
        "    indices_similares = similarities.nlargest(2).index\n",
        "\n",
        "    libros_recomendados = pd.concat([libros_filtrados, df.loc[indices_similares]])\n",
        "\n",
        "    resultado = \"\\n¡Aquí tienes algunas recomendaciones para ti!\\n\"\n",
        "    for index, libro in libros_recomendados.iterrows():\n",
        "        resultado += f\"\\nTítulo: {libro['Libro']}\\nAutor: {libro['autor']}\\nGénero: {libro['genero']}\\nSinopsis: {libro['sinopsis']}\\n-----------------------------\\n\"\n",
        "    messagebox.showinfo(\"Recomendaciones\", resultado)"
      ]
    },
    {
      "cell_type": "markdown",
      "metadata": {
        "id": "uqh8A5qYL-jU"
      },
      "source": [
        "### Funcion por género"
      ]
    },
    {
      "cell_type": "markdown",
      "metadata": {
        "id": "1vnECow9KrDG"
      },
      "source": [
        "La siguiente función, `eleccion_por_genero`, permite recomendar libros basados en el género literario seleccionado por el usuario:\n",
        "\n",
        "Descripción\n",
        "\n",
        "1. **Interacción con el Usuario**:\n",
        "   - La función solicita al usuario que ingrese el género de libro que desea leer.\n",
        "\n",
        "2. **Filtrado por Género**:\n",
        "   - Se obtiene una lista única de géneros disponibles en la base de datos (`df`).\n",
        "   - Se verifica si el género ingresado está en la lista de géneros disponibles.\n",
        "\n",
        "3. **Cálculo de Similitud**:\n",
        "   - Se calcula la similitud entre el género ingresado y los géneros en la base de datos utilizando `SequenceMatcher`.\n",
        "\n",
        "4. **Recomendación de Libros**:\n",
        "   - Se filtran los libros por el género seleccionado.\n",
        "   - Se seleccionan los libros de los géneros más similares y se agregan a los libros filtrados.\n",
        "\n",
        "5. **Resultados**:\n",
        "   - Se muestra al usuario las recomendaciones de libros, incluyendo título, autor, género y sinopsis de cada libro.\n",
        "\n",
        "Resultado\n",
        "\n",
        "La función `eleccion_por_genero` proporciona al usuario recomendaciones de libros basadas en el género literario ingresado.\n",
        "\n",
        "<span style=\"color:blue\">**Nota**:</span> Esta función es ideal para usuarios que desean explorar libros dentro de un género literario específico, permitiéndoles descubrir nuevas obras y autores dentro de sus intereses preferidos."
      ]
    },
    {
      "cell_type": "code",
      "execution_count": 36,
      "metadata": {
        "id": "srAQx7UlMAlz"
      },
      "outputs": [],
      "source": [
        "def eleccion_por_genero():\n",
        "    generos_disponibles = df['genero'].unique()\n",
        "\n",
        "    if len(generos_disponibles) == 0:\n",
        "        messagebox.showinfo(\"Sin géneros\", \"Me quedé sin ideas, perdon.\")\n",
        "        return\n",
        "\n",
        "    genero_usuario = simpledialog.askstring(\"¿Qué género literario te interesa?\", \"Géneros disponibles:\\n\" + \"\\n\".join(generos_disponibles))\n",
        "\n",
        "    if genero_usuario is None:\n",
        "        return\n",
        "\n",
        "    if genero_usuario not in generos_disponibles:\n",
        "        messagebox.showerror(\"Error\", \"Mmmm chequea de nuevo...\")\n",
        "        return\n",
        "\n",
        "    libros_filtrados = df[df['genero'] == genero_usuario]\n",
        "\n",
        "    similarities = df['genero'].apply(lambda x: SequenceMatcher(None, x.lower(), genero_usuario.lower()).ratio())\n",
        "\n",
        "    indices_similares = similarities.nlargest(2).index\n",
        "\n",
        "    libros_recomendados = pd.concat([libros_filtrados, df.loc[indices_similares]])\n",
        "\n",
        "    resultado = \"\\n¡Aquí tienes algunas recomendaciones para ti!\\n\"\n",
        "    for index, libro in libros_recomendados.iterrows():\n",
        "        resultado += f\"\\nTítulo: {libro['Libro']}\\nAutor: {libro['autor']}\\nGénero: {libro['genero']}\\nSinopsis: {libro['sinopsis']}\\n-----------------------------\\n\"\n",
        "    messagebox.showinfo(\"Recomendaciones\", resultado)"
      ]
    },
    {
      "cell_type": "markdown",
      "metadata": {
        "id": "kYEUVfzBIsTb"
      },
      "source": [
        "### Funcion main"
      ]
    },
    {
      "cell_type": "markdown",
      "metadata": {
        "id": "2qnCIwoOK1h2"
      },
      "source": [
        "La siguiente función, `recomendar_lectura`, crea una interfaz gráfica para recomendar libros basada en diferentes criterios (género, autor, etc.) usando Tkinter.\n",
        "\n",
        "Descripción\n",
        "\n",
        "1. **Creación de la Ventana Principal**:\n",
        "   - Se crea una ventana principal con el título \"Biblioteca Favorita\" y dimensiones 300x200 píxeles.\n",
        "\n",
        "2. **Etiqueta de Bienvenida**:\n",
        "   - Se añade una etiqueta de bienvenida que indica al usuario que está en su biblioteca favorita y que puede pedir ayuda al bibliotecario.\n",
        "\n",
        "3. **Botones de Opciones**:\n",
        "   - **Botón 1**: \"¿Qué tenes ganas de leer hoy?\" - Llama a la función `recomendacion_directa`.\n",
        "   - **Botón 2**: \"Decime un autor que te guste!\" - Llama a la función `eleccion_por_autor`.\n",
        "   - **Botón 3**: \"Elige un género!\" - Llama a la función `eleccion_por_genero`.\n",
        "   - **Botón 4**: \"Salir\" - Cierra la ventana principal.\n",
        "\n",
        "4. **Ejecución de la Interfaz**:\n",
        "   - La interfaz se mantiene en un bucle mediante `ventana.mainloop()` para que permanezca activa y esperando interacciones del usuario.\n",
        "\n",
        "Resultado\n",
        "\n",
        "La función `recomendar_lectura` proporciona una interfaz gráfica para que el usuario pueda solicitar recomendaciones de libros basadas en sus preferencias de género, autor, o simplemente explorar opciones disponibles.\n",
        "\n",
        "<span style=\"color:blue\">**Nota**:</span> Esta función utiliza Tkinter para crear una interfaz amigable que facilita la interacción del usuario con el sistema de recomendación de libros, mejorando la experiencia de búsqueda y descubrimiento de nuevas lecturas."
      ]
    },
    {
      "cell_type": "code",
      "execution_count": 37,
      "metadata": {},
      "outputs": [],
      "source": [
        "import tkinter as tk\n",
        "from tkinter import simpledialog, messagebox\n",
        "import pandas as pd\n",
        "import numpy as np\n",
        "from sklearn.metrics.pairwise import cosine_similarity\n",
        "from difflib import SequenceMatcher"
      ]
    },
    {
      "cell_type": "code",
      "execution_count": 40,
      "metadata": {
        "id": "yVQO-sEWD_6n"
      },
      "outputs": [],
      "source": [
        "def recomendar_lectura():\n",
        "    ventana = tk.Tk()\n",
        "    ventana.title(\"Biblioteca Favorita\")\n",
        "    ventana.geometry(\"300x200\")\n",
        "\n",
        "    label_bienvenida = tk.Label(ventana, text=\"¡Bienvenido a tu Biblioteca favorita!\\nSoy el bibliotecario y estoy acá para ayudarte con lo que necesites.\")\n",
        "    label_bienvenida.pack(pady=10)\n",
        "\n",
        "    boton_1 = tk.Button(ventana, text=\"¿Qué tenes ganas de leer hoy?\", command=recomendacion_directa)\n",
        "    boton_1.pack(pady=5)\n",
        "\n",
        "    boton_2 = tk.Button(ventana, text=\"Decime un autor que te guste!\", command=eleccion_por_autor)\n",
        "    boton_2.pack(pady=5)\n",
        "\n",
        "    boton_3 = tk.Button(ventana, text=\"Elige un género!\", command=eleccion_por_genero)\n",
        "    boton_3.pack(pady=5)\n",
        "\n",
        "    boton_4 = tk.Button(ventana, text=\"Salir\", command=ventana.destroy)\n",
        "    boton_4.pack(pady=5)\n",
        "\n",
        "    ventana.mainloop()\n",
        "\n",
        "recomendar_lectura()"
      ]
    },
    {
      "cell_type": "markdown",
      "metadata": {},
      "source": [
        "# Correr en colab"
      ]
    },
    {
      "cell_type": "code",
      "execution_count": null,
      "metadata": {},
      "outputs": [],
      "source": [
        "def recomendacion_directa():\n",
        "    print(\"¿Qué tenes ganas de leer hoy?\")\n",
        "    consulta_usuario = input(\"Ingresa el género de libro: \")\n",
        "\n",
        "    # Generar el embedding para la consulta del usuario\n",
        "    consulta_embedding = get_embedding(consulta_usuario)\n",
        "\n",
        "    if np.all(consulta_embedding == 0):\n",
        "        print(\"Mmmm algo hice mal, perdon profe.\")\n",
        "        return\n",
        "\n",
        "    # Calcular la similitud de coseno entre la consulta del usuario y las sinopsis de los libros\n",
        "    similarities = df['embedding'].apply(lambda x: cosine_similarity([consulta_embedding], [x])[0][0])\n",
        "\n",
        "    # Ordenar los libros por similitud y recomendar los tres más similares\n",
        "    libros_recomendados = df.iloc[similarities.nlargest(3).index]\n",
        "\n",
        "    if libros_recomendados.empty:\n",
        "        print(\"Me parece que no tengo ese género en mi base de datos, disculpame.\")\n",
        "    else:\n",
        "        print(\"--------------------------------------\")\n",
        "        print(\"\\n¡Acá tienes algunas recomendaciones ( Igual, mejor es leer García Marquez )!\\n\")\n",
        "        print(\"--------------------------------------\")\n",
        "\n",
        "        for index, libro in libros_recomendados.iterrows():\n",
        "            print(\"Título:\", libro['Libro'])\n",
        "            print(\"Autor:\", libro['autor'])\n",
        "            print(\"Género:\", libro['genero'])\n",
        "            print(\"Sinopsis:\", libro['sinopsis'])\n",
        "            print(\"-----------------------------\")\n"
      ]
    },
    {
      "cell_type": "code",
      "execution_count": null,
      "metadata": {},
      "outputs": [],
      "source": [
        "def eleccion_por_autor():\n",
        "    print(\"¿De qué autor te gustaría buscar libros?\")\n",
        "\n",
        "    # Obtener una lista única de autores disponibles en el DataFrame\n",
        "    autores_disponibles = df['autor'].unique()\n",
        "\n",
        "    if len(autores_disponibles) == 0:\n",
        "        print(\"--------------------------------------\")\n",
        "        print(\"Parece que me quede sin autores... Mejor pedile a ChatGPT que te escriba un libro!\")\n",
        "        print(\"--------------------------------------\")\n",
        "\n",
        "        return\n",
        "\n",
        "    print(\"Autores disponibles:\")\n",
        "    for idx, autor in enumerate(autores_disponibles, start=1):\n",
        "        print(f\"{idx}. {autor}\")\n",
        "\n",
        "    # Solicitar al usuario que elija un autor de la lista\n",
        "    opcion = input(\"Por favor, ingresa el número correspondiente al autor: \")\n",
        "\n",
        "    try:\n",
        "        opcion = int(opcion)\n",
        "        if opcion < 1 or opcion > len(autores_disponibles):\n",
        "            raise ValueError\n",
        "        autor_usuario = autores_disponibles[opcion - 1]\n",
        "    except (ValueError, IndexError):\n",
        "        print(\"--------------------------------------\")\n",
        "        print(\"No tengo ese autor, mil disculpas...\")\n",
        "        print(\"--------------------------------------\")\n",
        "        return\n",
        "\n",
        "    # Filtrar el DataFrame por el nombre del autor seleccionado por el usuario\n",
        "    libros_filtrados = df[df['autor'] == autor_usuario]\n",
        "\n",
        "    # Calcular la similitud de coseno entre el nombre del autor seleccionado y los nombres de autores en el DataFrame\n",
        "    similarities = df['autor'].apply(lambda x: SequenceMatcher(None, x.lower(), autor_usuario.lower()).ratio())\n",
        "\n",
        "    # Obtener los índices de los libros de los dos autores más similares\n",
        "    indices_similares = similarities.nlargest(2).index\n",
        "\n",
        "    # Seleccionar los libros de los autores más similares y agregarlos a los libros filtrados\n",
        "    libros_recomendados = pd.concat([libros_filtrados, df.loc[indices_similares]])\n",
        "\n",
        "    print(\"\\n¡Aquí tienes algunas recomendaciones para ti!\\n\")\n",
        "    for index, libro in libros_recomendados.iterrows():\n",
        "        print(\"Título:\", libro['Libro'])\n",
        "        print(\"Autor:\", libro['autor'])\n",
        "        print(\"Género:\", libro['genero'])\n",
        "        print(\"Sinopsis:\", libro['sinopsis'])\n",
        "        print(\"-----------------------------\")\n"
      ]
    },
    {
      "cell_type": "code",
      "execution_count": null,
      "metadata": {},
      "outputs": [],
      "source": [
        "def eleccion_por_genero():\n",
        "    print(\"----------------------------------\")\n",
        "    print(\"¿Qué género literario te interesa?\")\n",
        "    print(\"----------------------------------\")\n",
        "\n",
        "\n",
        "    # Obtener una lista única de géneros disponibles en el DataFrame\n",
        "    generos_disponibles = df['genero'].unique()\n",
        "\n",
        "    if len(generos_disponibles) == 0:\n",
        "        print(\"Me quedé sin ideas, perdon.\")\n",
        "        return\n",
        "\n",
        "    print(\"Géneros disponibles:\")\n",
        "    for idx, genero in enumerate(generos_disponibles, start=1):\n",
        "        print(f\"{idx}. {genero}\")\n",
        "\n",
        "    # Solicitar al usuario que elija un género de la lista\n",
        "    opcion = input(\"Por favor, ingresá el número correspondiente al género: \")\n",
        "\n",
        "    try:\n",
        "        opcion = int(opcion)\n",
        "        if opcion < 1 or opcion > len(generos_disponibles):\n",
        "            raise ValueError\n",
        "        genero_usuario = generos_disponibles[opcion - 1]\n",
        "    except (ValueError, IndexError):\n",
        "        print(\"Mmmm chequea de nuevo...\")\n",
        "        return\n",
        "\n",
        "    # Filtrar el DataFrame por el género literario seleccionado por el usuario\n",
        "    libros_filtrados = df[df['genero'] == genero_usuario]\n",
        "\n",
        "    # Calcular la similitud de coseno entre el género literario seleccionado y los géneros en el DataFrame\n",
        "    similarities = df['genero'].apply(lambda x: SequenceMatcher(None, x.lower(), genero_usuario.lower()).ratio())\n",
        "\n",
        "    # Obtener los índices de los libros de los dos géneros más similares\n",
        "    indices_similares = similarities.nlargest(2).index\n",
        "\n",
        "    # Seleccionar los libros de los géneros más similares y agregarlos a los libros filtrados\n",
        "    libros_recomendados = pd.concat([libros_filtrados, df.loc[indices_similares]])\n",
        "\n",
        "    print(\"\\n¡Aquí tienes algunas recomendaciones para ti!\\n\")\n",
        "    for index, libro in libros_recomendados.iterrows():\n",
        "        print(\"Título:\", libro['Libro'])\n",
        "        print(\"Autor:\", libro['autor'])\n",
        "        print(\"Género:\", libro['genero'])\n",
        "        print(\"Sinopsis:\", libro['sinopsis'])\n",
        "        print(\"-----------------------------\")\n"
      ]
    },
    {
      "cell_type": "code",
      "execution_count": null,
      "metadata": {},
      "outputs": [],
      "source": [
        "def recomendar_lectura():\n",
        "    print(\"¡Bienvenido a tu Biblioteca favorita!\\nSoy el bibliotecario y estoy acá para ayudarte con lo que necesites.\")\n",
        "\n",
        "    while True:\n",
        "        print(\"\\nOpciones:\")\n",
        "        print(\"1. ¿Qué tenes ganas de leer hoy?\")\n",
        "        print(\"2. Decime un autor que te guste!\")\n",
        "        print(\"3. Elige un género!\")\n",
        "        print(\"4. Salir\")\n",
        "\n",
        "        opcion = input(\"Por favor, elegí una opción (1-4): \")\n",
        "\n",
        "        if opcion == \"1\":\n",
        "            recomendacion_directa()\n",
        "        elif opcion == \"2\":\n",
        "            eleccion_por_autor()\n",
        "\n",
        "        elif opcion == \"3\":\n",
        "            eleccion_por_genero()\n",
        "        elif opcion == \"4\":\n",
        "            print(\"Nos vemos la próxima!\")\n",
        "            break\n",
        "        else:\n",
        "            print(\"---------------------------------------------------------------------------------------------\")\n",
        "            print(\"Todavía no soy un chatbot con APIKey de OpenAI, limitate a las posibles opciones, gracias...\")\n",
        "            print(\"---------------------------------------------------------------------------------------------\")\n",
        "\n"
      ]
    },
    {
      "cell_type": "code",
      "execution_count": null,
      "metadata": {},
      "outputs": [],
      "source": [
        "recomendar_lectura()"
      ]
    }
  ],
  "metadata": {
    "colab": {
      "collapsed_sections": [
        "UpYDlhQ8G8rX",
        "I4yn5i79ldQh",
        "z3b72JKmlfiB",
        "RMnqGjlhHNBR",
        "NpuYkfvTl4Fp"
      ],
      "gpuType": "T4",
      "provenance": []
    },
    "kernelspec": {
      "display_name": "Python 3",
      "name": "python3"
    },
    "language_info": {
      "codemirror_mode": {
        "name": "ipython",
        "version": 3
      },
      "file_extension": ".py",
      "mimetype": "text/x-python",
      "name": "python",
      "nbconvert_exporter": "python",
      "pygments_lexer": "ipython3",
      "version": "3.11.3"
    }
  },
  "nbformat": 4,
  "nbformat_minor": 0
}
